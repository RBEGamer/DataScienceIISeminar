{
 "cells": [
  {
   "cell_type": "code",
   "execution_count": 1,
   "id": "1e207d8d",
   "metadata": {
    "execution": {
     "iopub.execute_input": "2021-11-29T23:41:57.459169Z",
     "iopub.status.busy": "2021-11-29T23:41:57.458768Z",
     "iopub.status.idle": "2021-11-29T23:41:57.460537Z",
     "shell.execute_reply": "2021-11-29T23:41:57.460143Z"
    }
   },
   "outputs": [],
   "source": [
    "# TODO\n",
    "# DOWNLOAD RKI DATA FOR EACH WEEK\n",
    "# LK FLÄLL 7 TAGE BETROFFENEN RATE DATUM\n",
    "# ONLY USED LANDKREIS IDS\n",
    "# SAVE AS CSV\n",
    "\n"
   ]
  },
  {
   "cell_type": "code",
   "execution_count": 2,
   "id": "5c04ec6e",
   "metadata": {
    "execution": {
     "iopub.execute_input": "2021-11-29T23:41:57.465770Z",
     "iopub.status.busy": "2021-11-29T23:41:57.465409Z",
     "iopub.status.idle": "2021-11-29T23:41:57.466672Z",
     "shell.execute_reply": "2021-11-29T23:41:57.466949Z"
    }
   },
   "outputs": [],
   "source": [
    "import warnings\n",
    "warnings.filterwarnings(\"ignore\", 'This pattern has match groups')"
   ]
  },
  {
   "cell_type": "code",
   "execution_count": 3,
   "id": "50360449",
   "metadata": {
    "execution": {
     "iopub.execute_input": "2021-11-29T23:41:57.469210Z",
     "iopub.status.busy": "2021-11-29T23:41:57.468885Z",
     "iopub.status.idle": "2021-11-29T23:41:57.655348Z",
     "shell.execute_reply": "2021-11-29T23:41:57.654959Z"
    }
   },
   "outputs": [
    {
     "data": {
      "text/html": [
       "<div>\n",
       "<style scoped>\n",
       "    .dataframe tbody tr th:only-of-type {\n",
       "        vertical-align: middle;\n",
       "    }\n",
       "\n",
       "    .dataframe tbody tr th {\n",
       "        vertical-align: top;\n",
       "    }\n",
       "\n",
       "    .dataframe thead th {\n",
       "        text-align: right;\n",
       "    }\n",
       "</style>\n",
       "<table border=\"1\" class=\"dataframe\">\n",
       "  <thead>\n",
       "    <tr style=\"text-align: right;\">\n",
       "      <th></th>\n",
       "      <th>rki_ags</th>\n",
       "    </tr>\n",
       "  </thead>\n",
       "  <tbody>\n",
       "    <tr>\n",
       "      <th>0</th>\n",
       "      <td>09462</td>\n",
       "    </tr>\n",
       "    <tr>\n",
       "      <th>1</th>\n",
       "      <td>05711</td>\n",
       "    </tr>\n",
       "    <tr>\n",
       "      <th>2</th>\n",
       "      <td>09181</td>\n",
       "    </tr>\n",
       "    <tr>\n",
       "      <th>3</th>\n",
       "      <td>09363</td>\n",
       "    </tr>\n",
       "    <tr>\n",
       "      <th>4</th>\n",
       "      <td>09261</td>\n",
       "    </tr>\n",
       "  </tbody>\n",
       "</table>\n",
       "</div>"
      ],
      "text/plain": [
       "  rki_ags\n",
       "0   09462\n",
       "1   05711\n",
       "2   09181\n",
       "3   09363\n",
       "4   09261"
      ]
     },
     "execution_count": 3,
     "metadata": {},
     "output_type": "execute_result"
    }
   ],
   "source": [
    "# IMPORT CSV WHICH CONTAINS THE LANDKREISNAMEN\n",
    "import pandas as pd\n",
    "\n",
    "#IMPORTANT TO SET THE TYPE OF ALL COLUMNS TO TYPE STRING str\n",
    "# TO AVOID BUGS LATER BY DICT ACCESS\n",
    "used_lk = pd.read_csv(\"./generated/0_db_station_lk.csv\",sep=';',encoding=\"utf-8\",dtype = str)\n",
    "\n",
    "\n",
    "# IN THIS CASE WE ONLY USING THE LANDKREISE COLUMN\n",
    "used_lk = used_lk[['rki_ags']]\n",
    "used_lk.head(5)"
   ]
  },
  {
   "cell_type": "code",
   "execution_count": 4,
   "id": "045a4367",
   "metadata": {
    "execution": {
     "iopub.execute_input": "2021-11-29T23:41:57.658032Z",
     "iopub.status.busy": "2021-11-29T23:41:57.657672Z",
     "iopub.status.idle": "2021-11-29T23:41:57.691267Z",
     "shell.execute_reply": "2021-11-29T23:41:57.690969Z"
    }
   },
   "outputs": [],
   "source": [
    "import requests\n",
    "\n",
    "district_data = None\n",
    "def fetch_district_data():\n",
    "    global failed_fetch\n",
    "    global successful_fetch\n",
    "    # DOCKER CONTAINER LINK ADRESS TO marlon360/rki-covid-server:v2\n",
    "    r = requests.get('https://api.corona-zahlen.org/districts') # ('http://rkiapi:3000/districts')\n",
    "\n",
    "    if r.status_code == 200:\n",
    "        return r.json()\n",
    "    else:\n",
    "        return None\n",
    "\n"
   ]
  },
  {
   "cell_type": "code",
   "execution_count": 5,
   "id": "d5b5380c",
   "metadata": {
    "execution": {
     "iopub.execute_input": "2021-11-29T23:41:57.694581Z",
     "iopub.status.busy": "2021-11-29T23:41:57.693711Z",
     "iopub.status.idle": "2021-11-29T23:41:57.816841Z",
     "shell.execute_reply": "2021-11-29T23:41:57.816532Z"
    }
   },
   "outputs": [],
   "source": [
    "district_data = fetch_district_data()\n",
    "if district_data is None:\n",
    "    raise Exception('district_data is None so fetch failed')\n",
    "if not \"data\" in district_data:\n",
    "    raise Exception('district_data has no data attribute')\n",
    "district_data = district_data['data']\n"
   ]
  },
  {
   "cell_type": "code",
   "execution_count": 6,
   "id": "775a7626",
   "metadata": {
    "execution": {
     "iopub.execute_input": "2021-11-29T23:41:57.820965Z",
     "iopub.status.busy": "2021-11-29T23:41:57.820643Z",
     "iopub.status.idle": "2021-11-29T23:41:57.822550Z",
     "shell.execute_reply": "2021-11-29T23:41:57.822279Z"
    }
   },
   "outputs": [
    {
     "name": "stdout",
     "output_type": "stream",
     "text": [
      "missing lk 0 from 338 requested\n"
     ]
    }
   ],
   "source": [
    "## SAVE ONLY IMPORTANT VALUES\n",
    "not_found_lk = 0\n",
    "total_lk = 0\n",
    "\n",
    "\n",
    "_rki_ags = []\n",
    "_population = []\n",
    "_incidence = []\n",
    "_cases_100k = []\n",
    "_cases_week = []\n",
    "\n",
    "\n",
    "for lkags in used_lk['rki_ags']:\n",
    "    total_lk = total_lk + 1\n",
    "    #print(lkags)\n",
    "    if str(lkags) in district_data:\n",
    "        entry = district_data[str(lkags)]\n",
    "        _rki_ags.append(lkags)\n",
    "        _population.append(entry['population'])\n",
    "        _incidence.append(entry['weekIncidence'])\n",
    "        _cases_100k.append(entry['casesPer100k'])\n",
    "        _cases_week.append(entry['casesPerWeek'])\n",
    "\n",
    "    else:\n",
    "        not_found_lk = not_found_lk + 1\n",
    "\n",
    "print(f\"missing lk {not_found_lk} from {total_lk} requested\")"
   ]
  },
  {
   "cell_type": "code",
   "execution_count": 7,
   "id": "27d683ba",
   "metadata": {
    "execution": {
     "iopub.execute_input": "2021-11-29T23:41:57.828531Z",
     "iopub.status.busy": "2021-11-29T23:41:57.828219Z",
     "iopub.status.idle": "2021-11-29T23:41:57.829827Z",
     "shell.execute_reply": "2021-11-29T23:41:57.830079Z"
    }
   },
   "outputs": [
    {
     "data": {
      "text/html": [
       "<div>\n",
       "<style scoped>\n",
       "    .dataframe tbody tr th:only-of-type {\n",
       "        vertical-align: middle;\n",
       "    }\n",
       "\n",
       "    .dataframe tbody tr th {\n",
       "        vertical-align: top;\n",
       "    }\n",
       "\n",
       "    .dataframe thead th {\n",
       "        text-align: right;\n",
       "    }\n",
       "</style>\n",
       "<table border=\"1\" class=\"dataframe\">\n",
       "  <thead>\n",
       "    <tr style=\"text-align: right;\">\n",
       "      <th></th>\n",
       "      <th>rki_ags</th>\n",
       "      <th>population</th>\n",
       "      <th>incidence</th>\n",
       "      <th>cases_100k</th>\n",
       "      <th>cases_week</th>\n",
       "    </tr>\n",
       "  </thead>\n",
       "  <tbody>\n",
       "    <tr>\n",
       "      <th>0</th>\n",
       "      <td>09462</td>\n",
       "      <td>74048</td>\n",
       "      <td>530.736819</td>\n",
       "      <td>8741.627053</td>\n",
       "      <td>393</td>\n",
       "    </tr>\n",
       "    <tr>\n",
       "      <th>1</th>\n",
       "      <td>05711</td>\n",
       "      <td>333509</td>\n",
       "      <td>382.898213</td>\n",
       "      <td>9402.145070</td>\n",
       "      <td>1277</td>\n",
       "    </tr>\n",
       "    <tr>\n",
       "      <th>2</th>\n",
       "      <td>09181</td>\n",
       "      <td>121019</td>\n",
       "      <td>626.347929</td>\n",
       "      <td>8873.813203</td>\n",
       "      <td>758</td>\n",
       "    </tr>\n",
       "    <tr>\n",
       "      <th>3</th>\n",
       "      <td>09363</td>\n",
       "      <td>42535</td>\n",
       "      <td>420.829905</td>\n",
       "      <td>10429.058422</td>\n",
       "      <td>179</td>\n",
       "    </tr>\n",
       "    <tr>\n",
       "      <th>4</th>\n",
       "      <td>09261</td>\n",
       "      <td>73065</td>\n",
       "      <td>567.987408</td>\n",
       "      <td>11261.205776</td>\n",
       "      <td>415</td>\n",
       "    </tr>\n",
       "    <tr>\n",
       "      <th>...</th>\n",
       "      <td>...</td>\n",
       "      <td>...</td>\n",
       "      <td>...</td>\n",
       "      <td>...</td>\n",
       "      <td>...</td>\n",
       "    </tr>\n",
       "    <tr>\n",
       "      <th>333</th>\n",
       "      <td>14713</td>\n",
       "      <td>597493</td>\n",
       "      <td>341.593960</td>\n",
       "      <td>9650.322263</td>\n",
       "      <td>2041</td>\n",
       "    </tr>\n",
       "    <tr>\n",
       "      <th>334</th>\n",
       "      <td>09162</td>\n",
       "      <td>1488202</td>\n",
       "      <td>829.390096</td>\n",
       "      <td>11078.603577</td>\n",
       "      <td>12343</td>\n",
       "    </tr>\n",
       "    <tr>\n",
       "      <th>335</th>\n",
       "      <td>05334</td>\n",
       "      <td>556631</td>\n",
       "      <td>584.229049</td>\n",
       "      <td>8972.191631</td>\n",
       "      <td>3252</td>\n",
       "    </tr>\n",
       "    <tr>\n",
       "      <th>336</th>\n",
       "      <td>09564</td>\n",
       "      <td>515543</td>\n",
       "      <td>478.330615</td>\n",
       "      <td>12695.352279</td>\n",
       "      <td>2466</td>\n",
       "    </tr>\n",
       "    <tr>\n",
       "      <th>337</th>\n",
       "      <td>02000</td>\n",
       "      <td>1852478</td>\n",
       "      <td>831.480860</td>\n",
       "      <td>9288.315435</td>\n",
       "      <td>15403</td>\n",
       "    </tr>\n",
       "  </tbody>\n",
       "</table>\n",
       "<p>338 rows × 5 columns</p>\n",
       "</div>"
      ],
      "text/plain": [
       "    rki_ags  population   incidence    cases_100k  cases_week\n",
       "0     09462       74048  530.736819   8741.627053         393\n",
       "1     05711      333509  382.898213   9402.145070        1277\n",
       "2     09181      121019  626.347929   8873.813203         758\n",
       "3     09363       42535  420.829905  10429.058422         179\n",
       "4     09261       73065  567.987408  11261.205776         415\n",
       "..      ...         ...         ...           ...         ...\n",
       "333   14713      597493  341.593960   9650.322263        2041\n",
       "334   09162     1488202  829.390096  11078.603577       12343\n",
       "335   05334      556631  584.229049   8972.191631        3252\n",
       "336   09564      515543  478.330615  12695.352279        2466\n",
       "337   02000     1852478  831.480860   9288.315435       15403\n",
       "\n",
       "[338 rows x 5 columns]"
      ]
     },
     "execution_count": 7,
     "metadata": {},
     "output_type": "execute_result"
    }
   ],
   "source": [
    "## CONVERT TO PANDAS DATAFRAME\n",
    "fetched_cases = pd.DataFrame(data={'rki_ags':_rki_ags,'population':_population,'incidence':_incidence,'cases_100k':_cases_100k,'cases_week':_cases_week})\n",
    "fetched_cases"
   ]
  },
  {
   "cell_type": "code",
   "execution_count": 8,
   "id": "7a03dcd4",
   "metadata": {
    "execution": {
     "iopub.execute_input": "2021-11-29T23:41:57.832251Z",
     "iopub.status.busy": "2021-11-29T23:41:57.831135Z",
     "iopub.status.idle": "2021-11-29T23:41:57.835044Z",
     "shell.execute_reply": "2021-11-29T23:41:57.835312Z"
    }
   },
   "outputs": [
    {
     "name": "stdout",
     "output_type": "stream",
     "text": [
      "1642355707\n"
     ]
    }
   ],
   "source": [
    "# SAVE RESULT\n",
    "import calendar;\n",
    "import time;\n",
    "ts = calendar.timegm(time.gmtime())\n",
    "print(ts)\n",
    "\n",
    "fetched_cases.to_csv(\"./generated/corona_histroy/cases_\"+str(ts)+\".csv\",sep=';',encoding=\"utf-8\",index=False)"
   ]
  },
  {
   "cell_type": "code",
   "execution_count": null,
   "id": "d7c19236",
   "metadata": {},
   "outputs": [],
   "source": []
  },
  {
   "cell_type": "code",
   "execution_count": null,
   "id": "37b70e8a",
   "metadata": {},
   "outputs": [],
   "source": []
  },
  {
   "cell_type": "code",
   "execution_count": null,
   "id": "c18db00a",
   "metadata": {},
   "outputs": [],
   "source": []
  }
 ],
 "metadata": {
  "kernelspec": {
   "display_name": "Python 3 (ipykernel)",
   "language": "python",
   "name": "python3"
  },
  "language_info": {
   "codemirror_mode": {
    "name": "ipython",
    "version": 3
   },
   "file_extension": ".py",
   "mimetype": "text/x-python",
   "name": "python",
   "nbconvert_exporter": "python",
   "pygments_lexer": "ipython3",
   "version": "3.9.7"
  }
 },
 "nbformat": 4,
 "nbformat_minor": 5
}
