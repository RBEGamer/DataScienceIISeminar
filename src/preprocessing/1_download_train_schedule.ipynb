{
 "cells": [
  {
   "cell_type": "code",
   "execution_count": 1,
   "id": "13607bf1",
   "metadata": {
    "execution": {
     "iopub.execute_input": "2021-11-29T22:18:45.711108Z",
     "iopub.status.busy": "2021-11-29T22:18:45.710747Z",
     "iopub.status.idle": "2021-11-29T22:18:45.735490Z",
     "shell.execute_reply": "2021-11-29T22:18:45.735745Z"
    }
   },
   "outputs": [],
   "source": [
    "# THIS SCRIPT DOWNLOADS A SNAPSHOT OF THE CURRENT TRAIN DEPARTURES FOR EACH SELECTED TRAINSTART\n",
    "# RUN THIS SCRIPT A FEW TIMES PER DAY TO CATCH ALL DEPATURES\n",
    "import warnings\n",
    "warnings.filterwarnings(\"ignore\", 'This pattern has match groups')\n",
    "\n",
    "# ADD JUPYTHER PROGRESS BAR\n",
    "from ipywidgets import IntProgress\n",
    "from IPython.display import display\n",
    "import time"
   ]
  },
  {
   "cell_type": "code",
   "execution_count": 2,
   "id": "9158a8e2",
   "metadata": {
    "execution": {
     "iopub.execute_input": "2021-11-29T22:18:45.738053Z",
     "iopub.status.busy": "2021-11-29T22:18:45.737737Z",
     "iopub.status.idle": "2021-11-29T22:18:45.938672Z",
     "shell.execute_reply": "2021-11-29T22:18:45.938348Z"
    }
   },
   "outputs": [
    {
     "data": {
      "text/html": [
       "<div>\n",
       "<style scoped>\n",
       "    .dataframe tbody tr th:only-of-type {\n",
       "        vertical-align: middle;\n",
       "    }\n",
       "\n",
       "    .dataframe tbody tr th {\n",
       "        vertical-align: top;\n",
       "    }\n",
       "\n",
       "    .dataframe thead th {\n",
       "        text-align: right;\n",
       "    }\n",
       "</style>\n",
       "<table border=\"1\" class=\"dataframe\">\n",
       "  <thead>\n",
       "    <tr style=\"text-align: right;\">\n",
       "      <th></th>\n",
       "      <th>db_station_name</th>\n",
       "      <th>rki_landkreisname</th>\n",
       "      <th>rki_bezeichner</th>\n",
       "      <th>db_station_id</th>\n",
       "      <th>rki_ags</th>\n",
       "    </tr>\n",
       "  </thead>\n",
       "  <tbody>\n",
       "    <tr>\n",
       "      <th>0</th>\n",
       "      <td>Bayreuth Hbf</td>\n",
       "      <td>Bayreuth</td>\n",
       "      <td>Kreisfreie Stadt</td>\n",
       "      <td>8000028</td>\n",
       "      <td>9462</td>\n",
       "    </tr>\n",
       "    <tr>\n",
       "      <th>1</th>\n",
       "      <td>Brackwede</td>\n",
       "      <td>Bielefeld</td>\n",
       "      <td>Kreisfreie Stadt</td>\n",
       "      <td>8000048</td>\n",
       "      <td>5711</td>\n",
       "    </tr>\n",
       "    <tr>\n",
       "      <th>2</th>\n",
       "      <td>Kaufering</td>\n",
       "      <td>Landsberg am Lech</td>\n",
       "      <td>Landkreis</td>\n",
       "      <td>8000195</td>\n",
       "      <td>9181</td>\n",
       "    </tr>\n",
       "    <tr>\n",
       "      <th>3</th>\n",
       "      <td>Weiden(Oberpf)</td>\n",
       "      <td>Weiden i.d. OPf.</td>\n",
       "      <td>Kreisfreie Stadt</td>\n",
       "      <td>8000204</td>\n",
       "      <td>9363</td>\n",
       "    </tr>\n",
       "    <tr>\n",
       "      <th>4</th>\n",
       "      <td>Landshut(Bay)Hbf</td>\n",
       "      <td>Landshut</td>\n",
       "      <td>Kreisfreie Stadt</td>\n",
       "      <td>8000217</td>\n",
       "      <td>9261</td>\n",
       "    </tr>\n",
       "  </tbody>\n",
       "</table>\n",
       "</div>"
      ],
      "text/plain": [
       "    db_station_name  rki_landkreisname    rki_bezeichner  db_station_id  \\\n",
       "0      Bayreuth Hbf           Bayreuth  Kreisfreie Stadt        8000028   \n",
       "1         Brackwede          Bielefeld  Kreisfreie Stadt        8000048   \n",
       "2         Kaufering  Landsberg am Lech         Landkreis        8000195   \n",
       "3    Weiden(Oberpf)   Weiden i.d. OPf.  Kreisfreie Stadt        8000204   \n",
       "4  Landshut(Bay)Hbf           Landshut  Kreisfreie Stadt        8000217   \n",
       "\n",
       "   rki_ags  \n",
       "0     9462  \n",
       "1     5711  \n",
       "2     9181  \n",
       "3     9363  \n",
       "4     9261  "
      ]
     },
     "execution_count": 2,
     "metadata": {},
     "output_type": "execute_result"
    }
   ],
   "source": [
    "import pandas as pd\n",
    "stations = pd.read_csv(\"./generated/0_db_station_lk.csv\",sep=';',encoding=\"utf-8\")\n",
    "stations.head(5)"
   ]
  },
  {
   "cell_type": "code",
   "execution_count": 3,
   "id": "164fd839",
   "metadata": {
    "execution": {
     "iopub.execute_input": "2021-11-29T22:18:45.943659Z",
     "iopub.status.busy": "2021-11-29T22:18:45.943315Z",
     "iopub.status.idle": "2021-11-29T22:18:45.944969Z",
     "shell.execute_reply": "2021-11-29T22:18:45.944704Z"
    }
   },
   "outputs": [],
   "source": [
    "# THIS FUNKTION EXTRACTS THE NEEDED INFORMATION FROM THE A JSON RESPONSE\n",
    "\n",
    "def format_json_from_departureStationBoard_api(_json):\n",
    "    ret = []\n",
    "    \n",
    "    for train in _json:\n",
    "        train_entry = {}\n",
    "        \n",
    "        \n",
    "        # ALLOW ONLY THE FOLLOWING PRODUCT TYPE\n",
    "        train_entry['type'] = train['train']['type']\n",
    "        if train_entry['type'] == \"RB\" or train_entry['type'] == \"RE\" or train_entry['type'] == \"IC\" or train_entry['type'] == \"ICE\":\n",
    "            pass\n",
    "        else:\n",
    "            continue\n",
    "        \n",
    "        \n",
    "        train_entry['name'] = train['train']['name']\n",
    "        train_entry['line'] = train['train']['line']\n",
    "        train_entry['number'] = train['train']['number']\n",
    "        \n",
    "        \n",
    "        train_entry['current_station'] = train['currentStation']['id']\n",
    "        train_entry['current_station_name'] = train['currentStation']['title']\n",
    "        train_entry['current_station_departure_time'] = train['departure']['scheduledTime']\n",
    "        \n",
    "        stops = \"\"\n",
    "        for stop in train['stops']:\n",
    "            #print(stop)\n",
    "            stops = stops + str(stop['station']['id'])\n",
    "            if 'departure' in stop:\n",
    "                if 'scheduledTime' in stop['departure']:\n",
    "                    stops = stops + \"%\" + str(stop['departure']['time'])\n",
    "                else:\n",
    "                    stops = stops + \"%\"\n",
    "                    \n",
    "                if 'delay' in stop['departure']:\n",
    "                    stops = stops + \"%\" + str(stop['departure']['delay'])\n",
    "                else:\n",
    "                    stops = stops + \"%\"\n",
    "                    \n",
    "                    \n",
    "                    \n",
    "            stops = stops + \",\"                \n",
    "        train_entry['stops'] = stops\n",
    "\n",
    "        ret.append(train_entry)\n",
    "\n",
    "    return ret"
   ]
  },
  {
   "cell_type": "code",
   "execution_count": 4,
   "id": "7e76840e",
   "metadata": {
    "execution": {
     "iopub.execute_input": "2021-11-29T22:18:45.948266Z",
     "iopub.status.busy": "2021-11-29T22:18:45.947947Z",
     "iopub.status.idle": "2021-11-29T22:18:45.982144Z",
     "shell.execute_reply": "2021-11-29T22:18:45.981809Z"
    }
   },
   "outputs": [],
   "source": [
    "# AFTER LOADING THE STATION DATASET WHICH INCLUDES ALL STATIONS WE WANT TO ANALYSE\n",
    "# THE NEXT STEP IS TO QUERY THE API FOR THE DEPATURES OF THE TRAINS AT THE SELECTED STATION\n",
    "# THE RESULT SHOULD BE A LIST OF TRAINS AND THEIR DEPARTMENT STATION\n",
    "\n",
    "import requests\n",
    "import json\n",
    "import time\n",
    "\n",
    "# ALL RESULTS WILL BE STORED IN THE successful_fetch ARRAY EACH FAILED REQUEST IN failed_fetch\n",
    "failed_fetch = []\n",
    "successful_fetch = []\n",
    "\n",
    "def fetch_depature_table(_station_id, _time):\n",
    "    global failed_fetch\n",
    "    global successful_fetch\n",
    "    \n",
    "    if _time is None:\n",
    "        r = requests.get('https://marudor.de/api/hafas/v2/departureStationBoard?station='+str(fetch_station_id)+'&profile=db')\n",
    "    else:\n",
    "        r = requests.get('https://marudor.de/api/hafas/v2/departureStationBoard?station='+str(fetch_station_id)+'&profile=db,date=' + str(_time))\n",
    "        \n",
    "    if r.status_code == 200:\n",
    "        for fr in format_json_from_departureStationBoard_api(r.json()):\n",
    "            successful_fetch.append(fr)\n",
    "    else:\n",
    "        failed_fetch.append(fetch_station_id)\n"
   ]
  },
  {
   "cell_type": "code",
   "execution_count": 5,
   "id": "4c64c1cf",
   "metadata": {
    "execution": {
     "iopub.execute_input": "2021-11-29T22:18:45.984234Z",
     "iopub.status.busy": "2021-11-29T22:18:45.983925Z",
     "iopub.status.idle": "2021-11-29T22:18:45.985444Z",
     "shell.execute_reply": "2021-11-29T22:18:45.985132Z"
    }
   },
   "outputs": [],
   "source": [
    "# FINALLY START DOWNLOADING ALL DEPATURES FOR EACH LOADED STATION"
   ]
  },
  {
   "cell_type": "code",
   "execution_count": 6,
   "id": "06f093b6",
   "metadata": {
    "execution": {
     "iopub.execute_input": "2021-11-29T22:18:45.991364Z",
     "iopub.status.busy": "2021-11-29T22:18:45.990274Z",
     "iopub.status.idle": "2021-11-29T22:23:53.494686Z",
     "shell.execute_reply": "2021-11-29T22:23:53.494361Z"
    }
   },
   "outputs": [
    {
     "data": {
      "application/vnd.jupyter.widget-view+json": {
       "model_id": "f2678766c1024137889b3e658ab98abd",
       "version_major": 2,
       "version_minor": 0
      },
      "text/plain": [
       "IntProgress(value=0, max=338)"
      ]
     },
     "metadata": {},
     "output_type": "display_data"
    }
   ],
   "source": [
    "stationd_id = stations['db_station_id']\n",
    "\n",
    "# PROGRESS BAR INIT\n",
    "f = IntProgress(min=0, max=len(stationd_id)) # instantiate the bar\n",
    "display(f) # display the bar\n",
    "\n",
    "# FETCH EACH STATION\n",
    "for station in stationd_id:\n",
    "    #print(station)\n",
    "    fetch_station_id = station\n",
    "    fetch_station_time = None #\"2021-11-25T8:00:00.000Z\"\n",
    "    fetch_depature_table(fetch_station_id,fetch_station_time)\n",
    "    \n",
    "    f.value += 1 \n",
    "    \n",
    "    "
   ]
  },
  {
   "cell_type": "code",
   "execution_count": null,
   "id": "3df4c466",
   "metadata": {},
   "outputs": [],
   "source": []
  },
  {
   "cell_type": "code",
   "execution_count": 7,
   "id": "c2e6437c",
   "metadata": {
    "execution": {
     "iopub.execute_input": "2021-11-29T22:23:53.514892Z",
     "iopub.status.busy": "2021-11-29T22:23:53.500961Z",
     "iopub.status.idle": "2021-11-29T22:23:53.526676Z",
     "shell.execute_reply": "2021-11-29T22:23:53.526350Z"
    },
    "scrolled": true
   },
   "outputs": [
    {
     "data": {
      "text/html": [
       "<div>\n",
       "<style scoped>\n",
       "    .dataframe tbody tr th:only-of-type {\n",
       "        vertical-align: middle;\n",
       "    }\n",
       "\n",
       "    .dataframe tbody tr th {\n",
       "        vertical-align: top;\n",
       "    }\n",
       "\n",
       "    .dataframe thead th {\n",
       "        text-align: right;\n",
       "    }\n",
       "</style>\n",
       "<table border=\"1\" class=\"dataframe\">\n",
       "  <thead>\n",
       "    <tr style=\"text-align: right;\">\n",
       "      <th></th>\n",
       "      <th>current_station_departure_time</th>\n",
       "      <th>current_station_name</th>\n",
       "      <th>type</th>\n",
       "      <th>name</th>\n",
       "      <th>line</th>\n",
       "      <th>number</th>\n",
       "      <th>current_station</th>\n",
       "      <th>stops</th>\n",
       "      <th>max_capacity</th>\n",
       "    </tr>\n",
       "  </thead>\n",
       "  <tbody>\n",
       "    <tr>\n",
       "      <th>0</th>\n",
       "      <td>2021-11-29T22:57:00.000Z</td>\n",
       "      <td>Bayreuth Hbf</td>\n",
       "      <td>RE</td>\n",
       "      <td>RE 30</td>\n",
       "      <td>30</td>\n",
       "      <td>3099</td>\n",
       "      <td>8000028</td>\n",
       "      <td>8000028%2021-11-29T22:59:00.000Z%2,8000974,800...</td>\n",
       "      <td>602</td>\n",
       "    </tr>\n",
       "    <tr>\n",
       "      <th>1</th>\n",
       "      <td>2021-11-30T04:00:00.000Z</td>\n",
       "      <td>Bayreuth Hbf</td>\n",
       "      <td>RE</td>\n",
       "      <td>RE 30</td>\n",
       "      <td>30</td>\n",
       "      <td>3400</td>\n",
       "      <td>8000028</td>\n",
       "      <td>8000028%2021-11-30T04:00:00.000Z%,8001348,8004...</td>\n",
       "      <td>602</td>\n",
       "    </tr>\n",
       "    <tr>\n",
       "      <th>2</th>\n",
       "      <td>2021-11-30T04:45:00.000Z</td>\n",
       "      <td>Bayreuth Hbf</td>\n",
       "      <td>RE</td>\n",
       "      <td>RE 38</td>\n",
       "      <td>38</td>\n",
       "      <td>59318</td>\n",
       "      <td>8000028</td>\n",
       "      <td>8000028%2021-11-30T04:45:00.000Z%,8000974,8004...</td>\n",
       "      <td>602</td>\n",
       "    </tr>\n",
       "    <tr>\n",
       "      <th>3</th>\n",
       "      <td>2021-11-30T04:51:00.000Z</td>\n",
       "      <td>Bayreuth Hbf</td>\n",
       "      <td>RE</td>\n",
       "      <td>RE 30</td>\n",
       "      <td>30</td>\n",
       "      <td>3450</td>\n",
       "      <td>8000028</td>\n",
       "      <td>8000028%2021-11-30T04:51:00.000Z%,8001348,8000...</td>\n",
       "      <td>602</td>\n",
       "    </tr>\n",
       "    <tr>\n",
       "      <th>4</th>\n",
       "      <td>2021-11-30T05:24:00.000Z</td>\n",
       "      <td>Bayreuth Hbf</td>\n",
       "      <td>RE</td>\n",
       "      <td>RE 30</td>\n",
       "      <td>30</td>\n",
       "      <td>3402</td>\n",
       "      <td>8000028</td>\n",
       "      <td>8000028%2021-11-30T05:24:00.000Z%,8004759,8004...</td>\n",
       "      <td>602</td>\n",
       "    </tr>\n",
       "  </tbody>\n",
       "</table>\n",
       "</div>"
      ],
      "text/plain": [
       "  current_station_departure_time current_station_name type   name line number  \\\n",
       "0       2021-11-29T22:57:00.000Z         Bayreuth Hbf   RE  RE 30   30   3099   \n",
       "1       2021-11-30T04:00:00.000Z         Bayreuth Hbf   RE  RE 30   30   3400   \n",
       "2       2021-11-30T04:45:00.000Z         Bayreuth Hbf   RE  RE 38   38  59318   \n",
       "3       2021-11-30T04:51:00.000Z         Bayreuth Hbf   RE  RE 30   30   3450   \n",
       "4       2021-11-30T05:24:00.000Z         Bayreuth Hbf   RE  RE 30   30   3402   \n",
       "\n",
       "  current_station                                              stops  \\\n",
       "0         8000028  8000028%2021-11-29T22:59:00.000Z%2,8000974,800...   \n",
       "1         8000028  8000028%2021-11-30T04:00:00.000Z%,8001348,8004...   \n",
       "2         8000028  8000028%2021-11-30T04:45:00.000Z%,8000974,8004...   \n",
       "3         8000028  8000028%2021-11-30T04:51:00.000Z%,8001348,8000...   \n",
       "4         8000028  8000028%2021-11-30T05:24:00.000Z%,8004759,8004...   \n",
       "\n",
       "   max_capacity  \n",
       "0           602  \n",
       "1           602  \n",
       "2           602  \n",
       "3           602  \n",
       "4           602  "
      ]
     },
     "execution_count": 7,
     "metadata": {},
     "output_type": "execute_result"
    }
   ],
   "source": [
    "# SAVE RESULTS AS CSV\n",
    "## UGLY !!\n",
    "# TRANSFROM FETCH RESULT INTO PD COMPATIBLE DATA\n",
    "_type = []\n",
    "_name = []\n",
    "_line = []\n",
    "_number = []\n",
    "_current_station = []\n",
    "_stops = []\n",
    "_max_capacity = []\n",
    "_current_station_name = []\n",
    "_current_station_departure_time = []\n",
    "\n",
    "for res in successful_fetch:\n",
    "    et = None\n",
    "    try:\n",
    "        et = res[0]\n",
    "    except:\n",
    "        et = res\n",
    "    \n",
    "    if et is None or len(et) <= 0:\n",
    "        continue\n",
    "    #print(et)\n",
    "    _type.append(et['type'])\n",
    "    _name.append(et['name'])\n",
    "    _line.append(et['line'])\n",
    "    _number.append(et['number'])\n",
    "    _current_station.append(et['current_station'])\n",
    "    _current_station_name.append(et['current_station_name'])\n",
    "    _current_station_departure_time.append(et['current_station_departure_time'])\n",
    "    _stops.append(et['stops'])\n",
    "    \n",
    "    \n",
    "    # ADD A ESTIMATED CAPACITY\n",
    "    if et['type'] == \"ICE\":\n",
    "        _max_capacity.append(720)\n",
    "    elif et['type'] == \"IC\" or et['type'] == \"EC\":\n",
    "        _max_capacity.append(468)\n",
    "    elif et['type'] == \"RE\":\n",
    "        _max_capacity.append(602)\n",
    "    elif et['type'] == \"RB\":\n",
    "        _max_capacity.append(426)\n",
    "\n",
    "\n",
    "fetched_depatures = pd.DataFrame(data={'current_station_departure_time':_current_station_departure_time, 'current_station_name':_current_station_name,'type':_type,'name':_name,'line':_line,'number':_number,'current_station':_current_station,'stops':_stops, 'max_capacity':_max_capacity})\n",
    "fetched_depatures.head(5)"
   ]
  },
  {
   "cell_type": "code",
   "execution_count": 8,
   "id": "22f6b366",
   "metadata": {
    "execution": {
     "iopub.execute_input": "2021-11-29T22:23:53.529143Z",
     "iopub.status.busy": "2021-11-29T22:23:53.528821Z",
     "iopub.status.idle": "2021-11-29T22:23:53.558398Z",
     "shell.execute_reply": "2021-11-29T22:23:53.558671Z"
    }
   },
   "outputs": [
    {
     "name": "stdout",
     "output_type": "stream",
     "text": [
      "1638224633\n"
     ]
    }
   ],
   "source": [
    "import calendar;\n",
    "import time;\n",
    "ts = calendar.timegm(time.gmtime())\n",
    "print(ts)\n",
    "\n",
    "fetched_depatures.to_csv(\"./generated/departure_tables_raw/1_departures_table_\"+str(ts)+\".csv\",sep=';',encoding=\"utf-8\",index=False)"
   ]
  },
  {
   "cell_type": "code",
   "execution_count": null,
   "id": "5c6fecc6",
   "metadata": {},
   "outputs": [],
   "source": []
  }
 ],
 "metadata": {
  "kernelspec": {
   "display_name": "Python 3 (ipykernel)",
   "language": "python",
   "name": "python3"
  },
  "language_info": {
   "codemirror_mode": {
    "name": "ipython",
    "version": 3
   },
   "file_extension": ".py",
   "mimetype": "text/x-python",
   "name": "python",
   "nbconvert_exporter": "python",
   "pygments_lexer": "ipython3",
   "version": "3.9.7"
  },
  "widgets": {
   "application/vnd.jupyter.widget-state+json": {
    "state": {
     "28e5fa300f43498e861668824e0df103": {
      "model_module": "@jupyter-widgets/base",
      "model_module_version": "1.2.0",
      "model_name": "LayoutModel",
      "state": {
       "_model_module": "@jupyter-widgets/base",
       "_model_module_version": "1.2.0",
       "_model_name": "LayoutModel",
       "_view_count": null,
       "_view_module": "@jupyter-widgets/base",
       "_view_module_version": "1.2.0",
       "_view_name": "LayoutView",
       "align_content": null,
       "align_items": null,
       "align_self": null,
       "border": null,
       "bottom": null,
       "display": null,
       "flex": null,
       "flex_flow": null,
       "grid_area": null,
       "grid_auto_columns": null,
       "grid_auto_flow": null,
       "grid_auto_rows": null,
       "grid_column": null,
       "grid_gap": null,
       "grid_row": null,
       "grid_template_areas": null,
       "grid_template_columns": null,
       "grid_template_rows": null,
       "height": null,
       "justify_content": null,
       "justify_items": null,
       "left": null,
       "margin": null,
       "max_height": null,
       "max_width": null,
       "min_height": null,
       "min_width": null,
       "object_fit": null,
       "object_position": null,
       "order": null,
       "overflow": null,
       "overflow_x": null,
       "overflow_y": null,
       "padding": null,
       "right": null,
       "top": null,
       "visibility": null,
       "width": null
      }
     },
     "e0f4526fd6eb4d74a954c5d113d0b846": {
      "model_module": "@jupyter-widgets/controls",
      "model_module_version": "1.5.0",
      "model_name": "ProgressStyleModel",
      "state": {
       "_model_module": "@jupyter-widgets/controls",
       "_model_module_version": "1.5.0",
       "_model_name": "ProgressStyleModel",
       "_view_count": null,
       "_view_module": "@jupyter-widgets/base",
       "_view_module_version": "1.2.0",
       "_view_name": "StyleView",
       "bar_color": null,
       "description_width": ""
      }
     },
     "f2678766c1024137889b3e658ab98abd": {
      "model_module": "@jupyter-widgets/controls",
      "model_module_version": "1.5.0",
      "model_name": "IntProgressModel",
      "state": {
       "_dom_classes": [],
       "_model_module": "@jupyter-widgets/controls",
       "_model_module_version": "1.5.0",
       "_model_name": "IntProgressModel",
       "_view_count": null,
       "_view_module": "@jupyter-widgets/controls",
       "_view_module_version": "1.5.0",
       "_view_name": "ProgressView",
       "bar_style": "",
       "description": "",
       "description_tooltip": null,
       "layout": "IPY_MODEL_28e5fa300f43498e861668824e0df103",
       "max": 338,
       "min": 0,
       "orientation": "horizontal",
       "style": "IPY_MODEL_e0f4526fd6eb4d74a954c5d113d0b846",
       "value": 338
      }
     }
    },
    "version_major": 2,
    "version_minor": 0
   }
  }
 },
 "nbformat": 4,
 "nbformat_minor": 5
}
