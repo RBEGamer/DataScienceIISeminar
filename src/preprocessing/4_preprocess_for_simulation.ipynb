{
 "cells": [
  {
   "cell_type": "code",
   "execution_count": 1,
   "id": "4282c7d8",
   "metadata": {
    "execution": {
     "iopub.execute_input": "2021-11-29T21:38:45.940704Z",
     "iopub.status.busy": "2021-11-29T21:38:45.938381Z",
     "iopub.status.idle": "2021-11-29T21:38:45.942766Z",
     "shell.execute_reply": "2021-11-29T21:38:45.942400Z"
    }
   },
   "outputs": [],
   "source": [
    "# TDO COMBINE TRAIN HISTORY DATA TO ONE FILE PER DAY\n",
    "# TODO CALC TRAVALED PASSENGERN FROM TO FOR EACH DAY FOR EVERY STATION TO ONE! NEXT STATION"
   ]
  },
  {
   "cell_type": "code",
   "execution_count": 2,
   "id": "126efc15",
   "metadata": {
    "execution": {
     "iopub.execute_input": "2021-11-29T21:38:45.948085Z",
     "iopub.status.busy": "2021-11-29T21:38:45.947736Z",
     "iopub.status.idle": "2021-11-29T21:38:46.128553Z",
     "shell.execute_reply": "2021-11-29T21:38:46.128228Z"
    }
   },
   "outputs": [
    {
     "data": {
      "text/plain": [
       "'/home/jovyan/work/generated/departure_tables_raw'"
      ]
     },
     "execution_count": 2,
     "metadata": {},
     "output_type": "execute_result"
    }
   ],
   "source": [
    "import os\n",
    "import pandas as pd\n",
    "from pathlib import Path\n",
    "from datetime import datetime\n",
    "\n",
    "\n",
    "\n",
    "cwd = os.getcwd()\n",
    "dep_table_path = os.path.join(cwd, 'generated/departure_tables_raw')\n",
    "dep_table_path"
   ]
  },
  {
   "cell_type": "code",
   "execution_count": 3,
   "id": "43f9ebf4",
   "metadata": {
    "execution": {
     "iopub.execute_input": "2021-11-29T21:38:46.134400Z",
     "iopub.status.busy": "2021-11-29T21:38:46.134074Z",
     "iopub.status.idle": "2021-11-29T21:38:46.442041Z",
     "shell.execute_reply": "2021-11-29T21:38:46.441715Z"
    }
   },
   "outputs": [
    {
     "ename": "SyntaxError",
     "evalue": "closing parenthesis ')' does not match opening parenthesis '{' (1605668450.py, line 33)",
     "output_type": "error",
     "traceback": [
      "\u001b[0;36m  File \u001b[0;32m\"/tmp/ipykernel_451/1605668450.py\"\u001b[0;36m, line \u001b[0;32m33\u001b[0m\n\u001b[0;31m    df_departure_tables_dates = pd.DataFrame(data={'recorded_days':departure_tables_dates)\u001b[0m\n\u001b[0m                                                                                         ^\u001b[0m\n\u001b[0;31mSyntaxError\u001b[0m\u001b[0;31m:\u001b[0m closing parenthesis ')' does not match opening parenthesis '{'\n"
     ]
    }
   ],
   "source": [
    "raw_departure_tables = []\n",
    "departure_tables_dates = []\n",
    "departure_tables_dates_ts = []\n",
    "# LOAD ALL CSV FILES INTO ONE BIG CHUNK\n",
    "files = [ f for f in os.listdir( dep_table_path)] #list comprehension version.\n",
    "\n",
    "for f in files:\n",
    "    if(Path(f).suffix == \".csv\"):\n",
    "        filename = str(Path(f).stem)\n",
    "        if '_' in filename and len(filename.split('_')) == 4:\n",
    "            # THE GOAL IS TO COMBINE ALL TRAIN DEPARTURES FROM THE SAME DAY\n",
    "            # SO THE FILE TIMESTAMP IN ITS NAME CORRESPDS TO THE DATE OF RECORD = TRAIN DEPARTURES\n",
    "            # BY ADDING THE NEW DATE TO THE PD DF ITS IS POSSIBLE TO SORT FOR DATES LATER ON\n",
    "            timestamp = int(filename.split('_')[3])\n",
    "            date = datetime.fromtimestamp(timestamp)\n",
    "            # THIS WILL BE ADDED TO THE DF AS NEW COLUMN AFTER LOADING\n",
    "            combined_day = int(str(date.day) + str(date.month) + str(date.year))\n",
    "            departure_tables_dates.append(combined_day)\n",
    "            departure_tables_dates_ts.append(timestamp)\n",
    "            # LOAD FILE TO DF\n",
    "            abs_path = os.path.join(dep_table_path,f)\n",
    "            df = pd.read_csv(abs_path,sep=';',encoding=\"utf-8\",dtype = str)\n",
    "            \n",
    "            # ADD NEW COLUMNS\n",
    "            df['date'] = pd.Series([date for x in range(len(df.index))])\n",
    "            df['combined_date'] = pd.Series([combined_day for x in range(len(df.index))])\n",
    "            \n",
    "            raw_departure_tables.append(df)\n",
    "\n",
    "\n",
    "            \n",
    "# CREATE DATASET FROM DATE VALUES\n",
    "df_departure_tables_dates = pd.DataFrame(data={'recorded_days':departure_tables_dates})\n",
    "            \n",
    "# AFER LOADING ALL RAW FILE IN CREATE ONE GIANT DATASET\n",
    "departures_combined = pd.concat(raw_departure_tables)\n",
    "departures_combined.head(5)\n"
   ]
  },
  {
   "cell_type": "code",
   "execution_count": null,
   "id": "b2d72cc9",
   "metadata": {
    "execution": {
     "iopub.execute_input": "2021-11-29T21:38:46.448845Z",
     "iopub.status.busy": "2021-11-29T21:38:46.448527Z",
     "iopub.status.idle": "2021-11-29T21:38:46.489590Z",
     "shell.execute_reply": "2021-11-29T21:38:46.489145Z"
    },
    "scrolled": true
   },
   "outputs": [],
   "source": [
    "# REMOVE DUPLICATE TRAINS TRAIN_ID AND START_STATION\n",
    "departures_combined = departures_combined.drop_duplicates(['number','current_station_name','combined_date'],keep= 'last')\n",
    "departures_combined.head(5)\n"
   ]
  },
  {
   "cell_type": "code",
   "execution_count": null,
   "id": "d77609bb",
   "metadata": {
    "execution": {
     "iopub.execute_input": "2021-11-29T21:38:46.506836Z",
     "iopub.status.busy": "2021-11-29T21:38:46.506384Z",
     "iopub.status.idle": "2021-11-29T21:38:46.508381Z",
     "shell.execute_reply": "2021-11-29T21:38:46.508743Z"
    },
    "scrolled": true
   },
   "outputs": [],
   "source": [
    "# LETS TEST THE DATA\n",
    "# GET ALL TRAIN DEPARTURES FROM Bayreuth Hbf [8000028] @ 29.11.2021\n",
    "# RV + FV + DB ONLY\n",
    "tmp = departures_combined.loc[departures_combined['current_station_name'] == str(8000028)]\n",
    "tmp = tmp.loc[tmp['combined_date'] == departure_tables_dates[0]]\n",
    "tmp = tmp.reset_index()\n",
    "tmp.head(100)"
   ]
  },
  {
   "cell_type": "code",
   "execution_count": null,
   "id": "67a4f8c5",
   "metadata": {
    "execution": {
     "iopub.execute_input": "2021-11-29T21:38:46.511480Z",
     "iopub.status.busy": "2021-11-29T21:38:46.511044Z",
     "iopub.status.idle": "2021-11-29T21:38:46.516615Z",
     "shell.execute_reply": "2021-11-29T21:38:46.516171Z"
    }
   },
   "outputs": [],
   "source": [
    "# COUNT THE UNIQUE TRAINS\n",
    "#THE TRAIN_ID IS UNIQUE FOR EACH TRAIN AND IDENTIFIES THE TRAIN OVER ITS COMPLETE COURSE\n",
    "# ONE UNIQUE ID = ONE ZUGLAUF\n",
    "# FROM START TO END-STATION\n",
    "tmp = departures_combined.loc[departures_combined['combined_date'] == departure_tables_dates[0]]\n",
    "tmp['number'].nunique()"
   ]
  },
  {
   "cell_type": "code",
   "execution_count": null,
   "id": "52195494",
   "metadata": {
    "execution": {
     "iopub.execute_input": "2021-11-29T21:38:46.519101Z",
     "iopub.status.busy": "2021-11-29T21:38:46.518665Z",
     "iopub.status.idle": "2021-11-29T21:38:46.620964Z",
     "shell.execute_reply": "2021-11-29T21:38:46.620670Z"
    }
   },
   "outputs": [],
   "source": [
    "# SAVE RESULTS\n",
    "departures_combined.to_csv(\"./generated/4_departure_table.csv\",sep=';',encoding=\"utf-8\",index=False)\n",
    "df_departure_tables_dates.to_csv(\"./generated/4_departure_table_day_list.csv\",sep=';',encoding=\"utf-8\",index=False)"
   ]
  },
  {
   "cell_type": "code",
   "execution_count": null,
   "id": "c8a565e1",
   "metadata": {},
   "outputs": [],
   "source": []
  },
  {
   "cell_type": "code",
   "execution_count": null,
   "id": "068c6adf",
   "metadata": {},
   "outputs": [],
   "source": []
  },
  {
   "cell_type": "code",
   "execution_count": null,
   "id": "df2e32fc",
   "metadata": {},
   "outputs": [],
   "source": []
  },
  {
   "cell_type": "code",
   "execution_count": null,
   "id": "ae8568cb",
   "metadata": {},
   "outputs": [],
   "source": []
  }
 ],
 "metadata": {
  "kernelspec": {
   "display_name": "Python 3 (ipykernel)",
   "language": "python",
   "name": "python3"
  },
  "language_info": {
   "codemirror_mode": {
    "name": "ipython",
    "version": 3
   },
   "file_extension": ".py",
   "mimetype": "text/x-python",
   "name": "python",
   "nbconvert_exporter": "python",
   "pygments_lexer": "ipython3",
   "version": "3.9.7"
  }
 },
 "nbformat": 4,
 "nbformat_minor": 5
}
