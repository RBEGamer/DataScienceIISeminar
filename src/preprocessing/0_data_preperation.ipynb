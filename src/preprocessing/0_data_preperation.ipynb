{
 "cells": [
  {
   "cell_type": "code",
   "execution_count": null,
   "id": "916cb177",
   "metadata": {},
   "outputs": [],
   "source": [
    "# REQUIREMENTS.TXT\n",
    "\n",
    "import warnings\n",
    "warnings.filterwarnings(\"ignore\", 'This pattern has match groups')\n"
   ]
  },
  {
   "cell_type": "code",
   "execution_count": null,
   "id": "8485924a",
   "metadata": {},
   "outputs": [],
   "source": [
    "import pandas as pd\n",
    "stations = pd.read_csv(\"./datasets/station_service_stations.csv\",sep=';',encoding=\"utf-8\")\n",
    "\n",
    "# FIX ENCODING\n",
    "stations=stations.replace({'Ã¼': 'ü','\\'':''}, regex=True) # ü\n",
    "stations=stations.replace({'ÃŸ': 'ß','\\'':''}, regex=True) # ß\n",
    "stations=stations.replace({'Ã¶': 'ö','\\'':''}, regex=True) # ö\n",
    "stations=stations.replace({'Ã¶': 'ö','\\'':''}, regex=True) # ß\n",
    "# PRINT RAW RESULT\n",
    "stations.head(5)"
   ]
  },
  {
   "cell_type": "code",
   "execution_count": null,
   "id": "eacea416",
   "metadata": {},
   "outputs": [],
   "source": [
    "# FILTER STATIONS\n",
    "# 1. RV = REGIONALVERKEHR\n",
    "# 2. NUR HAUPTBAHNHÖFE\n",
    "BN_TYPE = \"DB Station und Service AG\" # DB Station und Service AG \n",
    "\n",
    "stations_filtered = stations[(stations['Verkehr'] == \"RV\" )]\n",
    "stations_filtered = stations_filtered[(stations_filtered['Betreiber_Name'] == BN_TYPE )]\n",
    "stations_filtered"
   ]
  },
  {
   "cell_type": "code",
   "execution_count": null,
   "id": "0f7550a2",
   "metadata": {},
   "outputs": [],
   "source": [
    "# SIMPLYFY DATA AND REMOVE COLUMNS\n",
    "stations_filtered = stations_filtered[['EVA_NR', 'NAME', 'Laenge', 'Breite']]\n",
    "stations_filtered.head(5)"
   ]
  },
  {
   "cell_type": "code",
   "execution_count": null,
   "id": "919ff709",
   "metadata": {},
   "outputs": [],
   "source": [
    "# NOW WE HAVE CLEANED STATION DATA WITH LAT AND LONG INFOMRATION ABOUT EACH STATION FROM DB\n",
    "# THE NEXT STEP IS TO MATCH THE STATIONS WITH THE LANDKREISE OF THE RKI\n",
    "# TO MAP THE SIMULATED RESULTS WITH THE CORONA DATA"
   ]
  },
  {
   "cell_type": "code",
   "execution_count": null,
   "id": "559abbae",
   "metadata": {},
   "outputs": [],
   "source": [
    "import geopandas as gpd\n",
    "landkreis_geo = gpd.read_file(\"./datasets/RKI_Corona_Landkreise.geojson\")\n",
    "landkreis_geo.head(5)"
   ]
  },
  {
   "cell_type": "code",
   "execution_count": null,
   "id": "1e3dbfff",
   "metadata": {},
   "outputs": [],
   "source": [
    "import geoplot\n",
    "import geoplot.crs as gcrs\n",
    "# PLOT LOADED GEOJSON DATA\n",
    "geoplot.polyplot(landkreis_geo, projection=gcrs.AlbersEqualArea(), edgecolor='darkgrey', facecolor='lightgrey', linewidth=.3, figsize=(12, 8))"
   ]
  },
  {
   "cell_type": "code",
   "execution_count": null,
   "id": "2860f0fc",
   "metadata": {},
   "outputs": [],
   "source": [
    "# AS WE CAN SEE IN THE RENDERED GEOJSON, THE FILE CONTAINS POLYGONS OF EACH LANDKREIS\n",
    "# SO THE NEXT STEP IS TO MATCH THE LANDKREIS POLYGON WITH THE LAT AND LONG OF THE DB STATION DATA\n",
    "gpd_points_lat = []\n",
    "gpd_points_long = []\n",
    "\n",
    "for index, row in stations_filtered.iterrows():\n",
    "    # BUT FIRST WE NEED TO FIX THE , FLOARINGPOINT GERMAN STUFF...\n",
    "    lat = float(str(row['Breite']).replace(',','.'))\n",
    "    long = float(str(row['Laenge']).replace(',','.'))\n",
    "    # !!!!!! SWITCH LAT LONG !!!!!!!!!!!!\n",
    "    gpd_points_lat.append(long)\n",
    "    gpd_points_long.append(lat)\n",
    "\n",
    "gpd_points = gpd.points_from_xy(gpd_points_lat, gpd_points_long)\n",
    "\n",
    "stations_geo_preperation = stations_filtered[['EVA_NR', 'NAME']]\n",
    "\n",
    "station_geo_points = gpd.GeoDataFrame(stations_geo_preperation, geometry=gpd_points, crs=\"EPSG:4326\")\n",
    "station_geo_points.head(5)"
   ]
  },
  {
   "cell_type": "code",
   "execution_count": null,
   "id": "da5693ea",
   "metadata": {},
   "outputs": [],
   "source": [
    "# VISULIZE THE STATIONS INSIDE THE GEOJSON MAP\n",
    "import matplotlib.pyplot as plt\n",
    "# USE THE LANFKREIS GEO DATA AS BASE WITH THE SAME SETTINGS\n",
    "lkg_plot = landkreis_geo.plot(edgecolor='darkgrey', facecolor='lightgrey', linewidth=.2, figsize=(12, 8))\n",
    "# DRAW THE STATION POINTS OVER\n",
    "station_geo_points.plot(ax=lkg_plot, color='red')\n",
    "plt.show(lkg_plot)\n"
   ]
  },
  {
   "cell_type": "code",
   "execution_count": null,
   "id": "b29fb8f5",
   "metadata": {},
   "outputs": [],
   "source": []
  },
  {
   "cell_type": "code",
   "execution_count": null,
   "id": "76a16514",
   "metadata": {},
   "outputs": [],
   "source": [
    "# THE LAST STEP IS TO PERFORM A TEST WHICH LANDKREISID CONTAINS WHICH STATIONS\n",
    "# SO THE RESULT SHOULD BE A STATION + RKI LANKREIS DATA DATAFRAME"
   ]
  },
  {
   "cell_type": "code",
   "execution_count": null,
   "id": "b713030b",
   "metadata": {
    "scrolled": true
   },
   "outputs": [],
   "source": [
    "# community = landkreis_geo #landkreis_geo[landkreis_geo.GEN == 'Flensburg'] # TEST\n",
    "station_geo_lkid = gpd.sjoin(landkreis_geo,station_geo_points)\n",
    "station_geo_lkid.head(5)\n",
    "len(station_geo_lkid)"
   ]
  },
  {
   "cell_type": "code",
   "execution_count": null,
   "id": "aa8b01c0",
   "metadata": {
    "scrolled": false
   },
   "outputs": [],
   "source": [
    "# NOW WE HAVE A 5000x 51 sized dataframe\n",
    "# IN THIS STAGE WE DONT NEED ONLY THE LANDKREISID AND THE STATION ID + GEOINFORMATION\n",
    "# SO LETS STRIP IT DOWN\n",
    "station_geo_lkid = station_geo_lkid[['NAME','GEN','BEZ','geometry','EVA_NR', 'AGS']]\n",
    "station_geo_lkid.columns = ['db_station_name', 'rki_landkreisname', 'rki_bezeichner','geometry', 'db_station_id','rki_ags']\n",
    "station_geo_lkid.head(5)\n",
    "\n",
    "# FINALLY FILTER FOR SOME "
   ]
  },
  {
   "cell_type": "code",
   "execution_count": null,
   "id": "3b4975c0",
   "metadata": {},
   "outputs": [],
   "source": [
    "# KEEP ONLY ONE TRAIN STATION FOR EACH COMMUNITY\n",
    "station_geo_lkid = station_geo_lkid.sort_values('db_station_id').drop_duplicates(subset=['rki_ags'], keep='last')\n",
    "\n",
    "# DROP NAN ROWS\n",
    "station_geo_lkid.dropna(inplace=True)\n",
    "station_geo_lkid.head(5)"
   ]
  },
  {
   "cell_type": "code",
   "execution_count": null,
   "id": "3efd2771",
   "metadata": {},
   "outputs": [],
   "source": [
    "# GENERATE A SMALLER DATASET WITHOUT THE GEOMETY\n",
    "station_geo_lkid_wo_geometry = station_geo_lkid[['db_station_name', 'rki_landkreisname', 'rki_bezeichner', 'db_station_id', 'rki_ags']]\n",
    "station_geo_lkid_wo_geometry.head(5)"
   ]
  },
  {
   "cell_type": "code",
   "execution_count": null,
   "id": "0554a799",
   "metadata": {},
   "outputs": [],
   "source": [
    "# TO SIMPLYFY THINGS THE ONLY GOING TO USE ONLY \"MAIN\" STATION WITH THE Hbf SUBSTRING\n",
    "\n",
    "station_geo_lkid_wo_geometry_hbf = station_geo_lkid_wo_geometry[station_geo_lkid_wo_geometry['db_station_name'].str.contains('Hbf')]\n",
    "# REMOVE S-BAHN STATION (S-Bahn) WITH ~ OPERATOR\n",
    "station_geo_lkid_wo_geometry_hbf = station_geo_lkid_wo_geometry_hbf[~station_geo_lkid_wo_geometry_hbf['db_station_name'].str.contains('(S-Bahn)')]\n",
    "station_geo_lkid_wo_geometry_hbf.head(5)"
   ]
  },
  {
   "cell_type": "code",
   "execution_count": null,
   "id": "7a6e11a9",
   "metadata": {},
   "outputs": [],
   "source": [
    "# FINALLY SAVE THE PREPARED DATA\n",
    "station_geo_lkid.to_file(\"./generated/0_db_station_rki_lk.geojson\", driver='GeoJSON')\n",
    "station_geo_lkid.to_file(\"./generated/0_db_station_rki_lk.gpkg\", layer='world', driver=\"GPKG\")\n",
    "station_geo_lkid_wo_geometry.to_csv(\"./generated/0_db_station_lk.csv\", encoding='utf-8', index=False, sep=';')\n",
    "station_geo_lkid_wo_geometry_hbf.to_csv(\"./generated/0_db_station_lk_hbf.csv\", encoding='utf-8', index=False, sep=';')"
   ]
  },
  {
   "cell_type": "code",
   "execution_count": null,
   "id": "4fe13351",
   "metadata": {},
   "outputs": [],
   "source": []
  },
  {
   "cell_type": "code",
   "execution_count": null,
   "id": "408dd133",
   "metadata": {},
   "outputs": [],
   "source": []
  }
 ],
 "metadata": {
  "kernelspec": {
   "display_name": "Python 3 (ipykernel)",
   "language": "python",
   "name": "python3"
  },
  "language_info": {
   "codemirror_mode": {
    "name": "ipython",
    "version": 3
   },
   "file_extension": ".py",
   "mimetype": "text/x-python",
   "name": "python",
   "nbconvert_exporter": "python",
   "pygments_lexer": "ipython3",
   "version": "3.9.7"
  }
 },
 "nbformat": 4,
 "nbformat_minor": 5
}
