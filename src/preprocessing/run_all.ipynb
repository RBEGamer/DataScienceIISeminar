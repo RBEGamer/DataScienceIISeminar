{
 "cells": [
  {
   "cell_type": "code",
   "execution_count": null,
   "id": "2c2748a6",
   "metadata": {},
   "outputs": [
    {
     "data": {
      "application/vnd.jupyter.widget-view+json": {
       "model_id": "f369746ab24c49e99eda5bd3a61a00af",
       "version_major": 2,
       "version_minor": 0
      },
      "text/plain": [
       "Executing:   0%|          | 0/19 [00:00<?, ?cell/s]"
      ]
     },
     "metadata": {},
     "output_type": "display_data"
    },
    {
     "name": "stdout",
     "output_type": "stream",
     "text": [
      "get_timetable\n"
     ]
    },
    {
     "data": {
      "application/vnd.jupyter.widget-view+json": {
       "model_id": "fa9401af57e042d89644712e8a940ef9",
       "version_major": 2,
       "version_minor": 0
      },
      "text/plain": [
       "Executing:   0%|          | 0/9 [00:00<?, ?cell/s]"
      ]
     },
     "metadata": {},
     "output_type": "display_data"
    }
   ],
   "source": [
    "import papermill as pm\n",
    "\n",
    "\n",
    "# RUN PREPROCESSING NOTEBOOK ONCE\n",
    "pm.execute_notebook(\n",
    "   '0_data_preperation.ipynb',\n",
    "    'logs/0_data_preperation.ipynb'\n",
    ")\n",
    "\n",
    "\n",
    "import sched, time\n",
    "s = sched.scheduler(time.time, time.sleep)\n",
    "\n",
    "\n",
    "def get_timestable(n):\n",
    "    print(\"get_timetable\")\n",
    "    pm.execute_notebook(\n",
    "   '1_download_train_schedule.ipynb',\n",
    "    'logs/1_download_train_schedule.ipynb'\n",
    ")\n",
    "    \n",
    "def get_rki(n):\n",
    "    print(\"get_rki\")\n",
    "    pm.execute_notebook(\n",
    "   '2_download_rki_data.ipynb',\n",
    "    'logs/2_download_rki_data.ipynb'\n",
    ")\n",
    "\n",
    "# GET DEPARTURE TIMETABLE EVERY HOUR    \n",
    "s.enter(60*60, 1, get_timestable, ('None',))\n",
    "\n",
    "# GET COVID DATA EVERY 5 HOURS\n",
    "#s.enter(60*60*5, 1, get_rki, ('',))\n",
    "    \n",
    "while True:\n",
    "    s.run()\n",
    "    time.sleep(1)\n",
    "    \n",
    "\n"
   ]
  },
  {
   "cell_type": "code",
   "execution_count": null,
   "id": "78ccb6e5",
   "metadata": {},
   "outputs": [],
   "source": []
  },
  {
   "cell_type": "code",
   "execution_count": null,
   "id": "5272cc50",
   "metadata": {},
   "outputs": [],
   "source": []
  }
 ],
 "metadata": {
  "kernelspec": {
   "display_name": "Python 3 (ipykernel)",
   "language": "python",
   "name": "python3"
  },
  "language_info": {
   "codemirror_mode": {
    "name": "ipython",
    "version": 3
   },
   "file_extension": ".py",
   "mimetype": "text/x-python",
   "name": "python",
   "nbconvert_exporter": "python",
   "pygments_lexer": "ipython3",
   "version": "3.9.7"
  }
 },
 "nbformat": 4,
 "nbformat_minor": 5
}
