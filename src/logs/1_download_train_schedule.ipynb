{
 "cells": [
  {
   "cell_type": "code",
   "execution_count": 1,
   "id": "13607bf1",
   "metadata": {
    "execution": {
     "iopub.execute_input": "2021-11-29T11:13:32.623413Z",
     "iopub.status.busy": "2021-11-29T11:13:32.623084Z",
     "iopub.status.idle": "2021-11-29T11:13:32.625114Z",
     "shell.execute_reply": "2021-11-29T11:13:32.624777Z"
    },
    "papermill": {
     "duration": 0.019971,
     "end_time": "2021-11-29T11:13:32.625205",
     "exception": false,
     "start_time": "2021-11-29T11:13:32.605234",
     "status": "completed"
    },
    "tags": []
   },
   "outputs": [],
   "source": [
    "# THIS SCRIPT DOWNLOADS A SNAPSHOT OF THE CURRENT TRAIN DEPARTURES FOR EACH SELECTED TRAINSTART\n",
    "# RUN THIS SCRIPT A FEW TIMES PER DAY TO CATCH ALL DEPATURES\n",
    "import warnings\n",
    "warnings.filterwarnings(\"ignore\", 'This pattern has match groups')"
   ]
  },
  {
   "cell_type": "code",
   "execution_count": 2,
   "id": "9158a8e2",
   "metadata": {
    "execution": {
     "iopub.execute_input": "2021-11-29T11:13:32.654135Z",
     "iopub.status.busy": "2021-11-29T11:13:32.653815Z",
     "iopub.status.idle": "2021-11-29T11:13:32.834292Z",
     "shell.execute_reply": "2021-11-29T11:13:32.834022Z"
    },
    "papermill": {
     "duration": 0.195614,
     "end_time": "2021-11-29T11:13:32.834384",
     "exception": false,
     "start_time": "2021-11-29T11:13:32.638770",
     "status": "completed"
    },
    "tags": []
   },
   "outputs": [
    {
     "data": {
      "text/html": [
       "<div>\n",
       "<style scoped>\n",
       "    .dataframe tbody tr th:only-of-type {\n",
       "        vertical-align: middle;\n",
       "    }\n",
       "\n",
       "    .dataframe tbody tr th {\n",
       "        vertical-align: top;\n",
       "    }\n",
       "\n",
       "    .dataframe thead th {\n",
       "        text-align: right;\n",
       "    }\n",
       "</style>\n",
       "<table border=\"1\" class=\"dataframe\">\n",
       "  <thead>\n",
       "    <tr style=\"text-align: right;\">\n",
       "      <th></th>\n",
       "      <th>db_station_name</th>\n",
       "      <th>rki_landkreisname</th>\n",
       "      <th>rki_bezeichner</th>\n",
       "      <th>db_station_id</th>\n",
       "      <th>rki_ags</th>\n",
       "    </tr>\n",
       "  </thead>\n",
       "  <tbody>\n",
       "    <tr>\n",
       "      <th>0</th>\n",
       "      <td>Bayreuth Hbf</td>\n",
       "      <td>Bayreuth</td>\n",
       "      <td>Kreisfreie Stadt</td>\n",
       "      <td>8000028</td>\n",
       "      <td>9462</td>\n",
       "    </tr>\n",
       "    <tr>\n",
       "      <th>1</th>\n",
       "      <td>Brackwede</td>\n",
       "      <td>Bielefeld</td>\n",
       "      <td>Kreisfreie Stadt</td>\n",
       "      <td>8000048</td>\n",
       "      <td>5711</td>\n",
       "    </tr>\n",
       "    <tr>\n",
       "      <th>2</th>\n",
       "      <td>Kaufering</td>\n",
       "      <td>Landsberg am Lech</td>\n",
       "      <td>Landkreis</td>\n",
       "      <td>8000195</td>\n",
       "      <td>9181</td>\n",
       "    </tr>\n",
       "    <tr>\n",
       "      <th>3</th>\n",
       "      <td>Weiden(Oberpf)</td>\n",
       "      <td>Weiden i.d. OPf.</td>\n",
       "      <td>Kreisfreie Stadt</td>\n",
       "      <td>8000204</td>\n",
       "      <td>9363</td>\n",
       "    </tr>\n",
       "    <tr>\n",
       "      <th>4</th>\n",
       "      <td>Landshut(Bay)Hbf</td>\n",
       "      <td>Landshut</td>\n",
       "      <td>Kreisfreie Stadt</td>\n",
       "      <td>8000217</td>\n",
       "      <td>9261</td>\n",
       "    </tr>\n",
       "  </tbody>\n",
       "</table>\n",
       "</div>"
      ],
      "text/plain": [
       "    db_station_name  rki_landkreisname    rki_bezeichner  db_station_id  \\\n",
       "0      Bayreuth Hbf           Bayreuth  Kreisfreie Stadt        8000028   \n",
       "1         Brackwede          Bielefeld  Kreisfreie Stadt        8000048   \n",
       "2         Kaufering  Landsberg am Lech         Landkreis        8000195   \n",
       "3    Weiden(Oberpf)   Weiden i.d. OPf.  Kreisfreie Stadt        8000204   \n",
       "4  Landshut(Bay)Hbf           Landshut  Kreisfreie Stadt        8000217   \n",
       "\n",
       "   rki_ags  \n",
       "0     9462  \n",
       "1     5711  \n",
       "2     9181  \n",
       "3     9363  \n",
       "4     9261  "
      ]
     },
     "execution_count": 2,
     "metadata": {},
     "output_type": "execute_result"
    }
   ],
   "source": [
    "import pandas as pd\n",
    "stations = pd.read_csv(\"./generated/0_db_station_lk.csv\",sep=';',encoding=\"utf-8\")\n",
    "stations.head(5)"
   ]
  },
  {
   "cell_type": "code",
   "execution_count": 3,
   "id": "164fd839",
   "metadata": {
    "execution": {
     "iopub.execute_input": "2021-11-29T11:13:32.866040Z",
     "iopub.status.busy": "2021-11-29T11:13:32.865715Z",
     "iopub.status.idle": "2021-11-29T11:13:32.867457Z",
     "shell.execute_reply": "2021-11-29T11:13:32.867110Z"
    },
    "papermill": {
     "duration": 0.019188,
     "end_time": "2021-11-29T11:13:32.867539",
     "exception": false,
     "start_time": "2021-11-29T11:13:32.848351",
     "status": "completed"
    },
    "tags": []
   },
   "outputs": [],
   "source": [
    "# THIS FUNKTION EXTRACTS THE NEEDED INFORMATION FROM THE A JSON RESPONSE\n",
    "\n",
    "def format_json_from_departureStationBoard_api(_json):\n",
    "    ret = []\n",
    "    \n",
    "    for train in _json:\n",
    "        train_entry = {}\n",
    "        \n",
    "        \n",
    "        # ALLOW ONLY THE FOLLOWING PRODUCT TYPE\n",
    "        train_entry['type'] = train['train']['type']\n",
    "        if train_entry['type'] == \"RB\" or train_entry['type'] == \"RE\" or train_entry['type'] == \"IC\" or train_entry['type'] == \"ICE\":\n",
    "            pass\n",
    "        else:\n",
    "            continue\n",
    "        \n",
    "        \n",
    "        train_entry['name'] = train['train']['name']\n",
    "        train_entry['line'] = train['train']['line']\n",
    "        train_entry['number'] = train['train']['number']\n",
    "        \n",
    "        \n",
    "        train_entry['start_station'] = train['currentStation']['id']\n",
    "        train_entry['start_station'] = train['currentStation']['id']\n",
    "        \n",
    "        stops = \"\"\n",
    "        for stop in train['stops']:\n",
    "            #print(stop)\n",
    "            stops = stops + stop['station']['id'] + \",\"                \n",
    "        train_entry['stops'] = stops\n",
    "\n",
    "        ret.append(train_entry)\n",
    "\n",
    "    return ret"
   ]
  },
  {
   "cell_type": "code",
   "execution_count": 4,
   "id": "7e76840e",
   "metadata": {
    "execution": {
     "iopub.execute_input": "2021-11-29T11:13:32.898321Z",
     "iopub.status.busy": "2021-11-29T11:13:32.897998Z",
     "iopub.status.idle": "2021-11-29T11:13:32.932378Z",
     "shell.execute_reply": "2021-11-29T11:13:32.932035Z"
    },
    "papermill": {
     "duration": 0.051381,
     "end_time": "2021-11-29T11:13:32.932470",
     "exception": false,
     "start_time": "2021-11-29T11:13:32.881089",
     "status": "completed"
    },
    "tags": []
   },
   "outputs": [],
   "source": [
    "# AFTER LOADING THE STATION DATASET WHICH INCLUDES ALL STATIONS WE WANT TO ANALYSE\n",
    "# THE NEXT STEP IS TO QUERY THE API FOR THE DEPATURES OF THE TRAINS AT THE SELECTED STATION\n",
    "# THE RESULT SHOULD BE A LIST OF TRAINS AND THEIR DEPARTMENT STATION\n",
    "\n",
    "import requests\n",
    "import json\n",
    "import time\n",
    "\n",
    "# ALL RESULTS WILL BE STORED IN THE successful_fetch ARRAY EACH FAILED REQUEST IN failed_fetch\n",
    "failed_fetch = []\n",
    "successful_fetch = []\n",
    "\n",
    "def fetch_depature_table(_station_id, _time):\n",
    "    global failed_fetch\n",
    "    global successful_fetch\n",
    "    \n",
    "    if _time is None:\n",
    "        r = requests.get('https://marudor.de/api/hafas/v2/departureStationBoard?station='+str(fetch_station_id)+'&profile=db')\n",
    "    else:\n",
    "        r = requests.get('https://marudor.de/api/hafas/v2/departureStationBoard?station='+str(fetch_station_id)+'&profile=db,date=' + str(_time))\n",
    "        \n",
    "    if r.status_code == 200:\n",
    "        for fr in format_json_from_departureStationBoard_api(r.json()):\n",
    "            successful_fetch.append(fr)\n",
    "    else:\n",
    "        failed_fetch.append(fetch_station_id)\n"
   ]
  },
  {
   "cell_type": "code",
   "execution_count": 5,
   "id": "4c64c1cf",
   "metadata": {
    "execution": {
     "iopub.execute_input": "2021-11-29T11:13:32.962517Z",
     "iopub.status.busy": "2021-11-29T11:13:32.962189Z",
     "iopub.status.idle": "2021-11-29T11:13:32.963398Z",
     "shell.execute_reply": "2021-11-29T11:13:32.963665Z"
    },
    "papermill": {
     "duration": 0.017432,
     "end_time": "2021-11-29T11:13:32.963766",
     "exception": false,
     "start_time": "2021-11-29T11:13:32.946334",
     "status": "completed"
    },
    "tags": []
   },
   "outputs": [],
   "source": [
    "# FINALLY START DOWNLOADING ALL DEPATURES FOR EACH LOADED STATION"
   ]
  },
  {
   "cell_type": "code",
   "execution_count": 6,
   "id": "06f093b6",
   "metadata": {
    "execution": {
     "iopub.execute_input": "2021-11-29T11:13:32.994828Z",
     "iopub.status.busy": "2021-11-29T11:13:32.993582Z",
     "iopub.status.idle": "2021-11-29T11:20:04.741956Z",
     "shell.execute_reply": "2021-11-29T11:20:04.741608Z"
    },
    "papermill": {
     "duration": 391.763779,
     "end_time": "2021-11-29T11:20:04.742049",
     "exception": false,
     "start_time": "2021-11-29T11:13:32.978270",
     "status": "completed"
    },
    "tags": []
   },
   "outputs": [
    {
     "name": "stdout",
     "output_type": "stream",
     "text": [
      "8000028\n"
     ]
    },
    {
     "name": "stdout",
     "output_type": "stream",
     "text": [
      "8000048\n"
     ]
    },
    {
     "name": "stdout",
     "output_type": "stream",
     "text": [
      "8000195\n"
     ]
    },
    {
     "name": "stdout",
     "output_type": "stream",
     "text": [
      "8000204\n"
     ]
    },
    {
     "name": "stdout",
     "output_type": "stream",
     "text": [
      "8000217\n"
     ]
    },
    {
     "name": "stdout",
     "output_type": "stream",
     "text": [
      "8000233\n"
     ]
    },
    {
     "name": "stdout",
     "output_type": "stream",
     "text": [
      "8000440\n"
     ]
    },
    {
     "name": "stdout",
     "output_type": "stream",
     "text": [
      "8000566\n"
     ]
    },
    {
     "name": "stdout",
     "output_type": "stream",
     "text": [
      "8000619\n"
     ]
    },
    {
     "name": "stdout",
     "output_type": "stream",
     "text": [
      "8000775\n"
     ]
    },
    {
     "name": "stdout",
     "output_type": "stream",
     "text": [
      "8001071\n"
     ]
    },
    {
     "name": "stdout",
     "output_type": "stream",
     "text": [
      "8001091\n"
     ]
    },
    {
     "name": "stdout",
     "output_type": "stream",
     "text": [
      "8001164\n"
     ]
    },
    {
     "name": "stdout",
     "output_type": "stream",
     "text": [
      "8001168\n"
     ]
    },
    {
     "name": "stdout",
     "output_type": "stream",
     "text": [
      "8001347\n"
     ]
    },
    {
     "name": "stdout",
     "output_type": "stream",
     "text": [
      "8001571\n"
     ]
    },
    {
     "name": "stdout",
     "output_type": "stream",
     "text": [
      "8001646\n"
     ]
    },
    {
     "name": "stdout",
     "output_type": "stream",
     "text": [
      "8001718\n"
     ]
    },
    {
     "name": "stdout",
     "output_type": "stream",
     "text": [
      "8001777\n"
     ]
    },
    {
     "name": "stdout",
     "output_type": "stream",
     "text": [
      "8001846\n"
     ]
    },
    {
     "name": "stdout",
     "output_type": "stream",
     "text": [
      "8001851\n"
     ]
    },
    {
     "name": "stdout",
     "output_type": "stream",
     "text": [
      "8001924\n"
     ]
    },
    {
     "name": "stdout",
     "output_type": "stream",
     "text": [
      "8001972\n"
     ]
    },
    {
     "name": "stdout",
     "output_type": "stream",
     "text": [
      "8002025\n"
     ]
    },
    {
     "name": "stdout",
     "output_type": "stream",
     "text": [
      "8002071\n"
     ]
    },
    {
     "name": "stdout",
     "output_type": "stream",
     "text": [
      "8002085\n"
     ]
    },
    {
     "name": "stdout",
     "output_type": "stream",
     "text": [
      "8002227\n"
     ]
    },
    {
     "name": "stdout",
     "output_type": "stream",
     "text": [
      "8002634\n"
     ]
    },
    {
     "name": "stdout",
     "output_type": "stream",
     "text": [
      "8002680\n"
     ]
    },
    {
     "name": "stdout",
     "output_type": "stream",
     "text": [
      "8002700\n"
     ]
    },
    {
     "name": "stdout",
     "output_type": "stream",
     "text": [
      "8002779\n"
     ]
    },
    {
     "name": "stdout",
     "output_type": "stream",
     "text": [
      "8002924\n"
     ]
    },
    {
     "name": "stdout",
     "output_type": "stream",
     "text": [
      "8003076\n"
     ]
    },
    {
     "name": "stdout",
     "output_type": "stream",
     "text": [
      "8003079\n"
     ]
    },
    {
     "name": "stdout",
     "output_type": "stream",
     "text": [
      "8003096\n"
     ]
    },
    {
     "name": "stdout",
     "output_type": "stream",
     "text": [
      "8003154\n"
     ]
    },
    {
     "name": "stdout",
     "output_type": "stream",
     "text": [
      "8003187\n"
     ]
    },
    {
     "name": "stdout",
     "output_type": "stream",
     "text": [
      "8003354\n"
     ]
    },
    {
     "name": "stdout",
     "output_type": "stream",
     "text": [
      "8003382\n"
     ]
    },
    {
     "name": "stdout",
     "output_type": "stream",
     "text": [
      "8003427\n"
     ]
    },
    {
     "name": "stdout",
     "output_type": "stream",
     "text": [
      "8003508\n"
     ]
    },
    {
     "name": "stdout",
     "output_type": "stream",
     "text": [
      "8003520\n"
     ]
    },
    {
     "name": "stdout",
     "output_type": "stream",
     "text": [
      "8003568\n"
     ]
    },
    {
     "name": "stdout",
     "output_type": "stream",
     "text": [
      "8003608\n"
     ]
    },
    {
     "name": "stdout",
     "output_type": "stream",
     "text": [
      "8003672\n"
     ]
    },
    {
     "name": "stdout",
     "output_type": "stream",
     "text": [
      "8003705\n"
     ]
    },
    {
     "name": "stdout",
     "output_type": "stream",
     "text": [
      "8003767\n"
     ]
    },
    {
     "name": "stdout",
     "output_type": "stream",
     "text": [
      "8003804\n"
     ]
    },
    {
     "name": "stdout",
     "output_type": "stream",
     "text": [
      "8003821\n"
     ]
    },
    {
     "name": "stdout",
     "output_type": "stream",
     "text": [
      "8003881\n"
     ]
    },
    {
     "name": "stdout",
     "output_type": "stream",
     "text": [
      "8003922\n"
     ]
    },
    {
     "name": "stdout",
     "output_type": "stream",
     "text": [
      "8003959\n"
     ]
    },
    {
     "name": "stdout",
     "output_type": "stream",
     "text": [
      "8003990\n"
     ]
    },
    {
     "name": "stdout",
     "output_type": "stream",
     "text": [
      "8004008\n"
     ]
    },
    {
     "name": "stdout",
     "output_type": "stream",
     "text": [
      "8004111\n"
     ]
    },
    {
     "name": "stdout",
     "output_type": "stream",
     "text": [
      "8004122\n"
     ]
    },
    {
     "name": "stdout",
     "output_type": "stream",
     "text": [
      "8004171\n"
     ]
    },
    {
     "name": "stdout",
     "output_type": "stream",
     "text": [
      "8004247\n"
     ]
    },
    {
     "name": "stdout",
     "output_type": "stream",
     "text": [
      "8004253\n"
     ]
    },
    {
     "name": "stdout",
     "output_type": "stream",
     "text": [
      "8004295\n"
     ]
    },
    {
     "name": "stdout",
     "output_type": "stream",
     "text": [
      "8004302\n"
     ]
    },
    {
     "name": "stdout",
     "output_type": "stream",
     "text": [
      "8004419\n"
     ]
    },
    {
     "name": "stdout",
     "output_type": "stream",
     "text": [
      "8004420\n"
     ]
    },
    {
     "name": "stdout",
     "output_type": "stream",
     "text": [
      "8004426\n"
     ]
    },
    {
     "name": "stdout",
     "output_type": "stream",
     "text": [
      "8004489\n"
     ]
    },
    {
     "name": "stdout",
     "output_type": "stream",
     "text": [
      "8004513\n"
     ]
    },
    {
     "name": "stdout",
     "output_type": "stream",
     "text": [
      "8004518\n"
     ]
    },
    {
     "name": "stdout",
     "output_type": "stream",
     "text": [
      "8004542\n"
     ]
    },
    {
     "name": "stdout",
     "output_type": "stream",
     "text": [
      "8004567\n"
     ]
    },
    {
     "name": "stdout",
     "output_type": "stream",
     "text": [
      "8004626\n"
     ]
    },
    {
     "name": "stdout",
     "output_type": "stream",
     "text": [
      "8004665\n"
     ]
    },
    {
     "name": "stdout",
     "output_type": "stream",
     "text": [
      "8004700\n"
     ]
    },
    {
     "name": "stdout",
     "output_type": "stream",
     "text": [
      "8004702\n"
     ]
    },
    {
     "name": "stdout",
     "output_type": "stream",
     "text": [
      "8004712\n"
     ]
    },
    {
     "name": "stdout",
     "output_type": "stream",
     "text": [
      "8004726\n"
     ]
    },
    {
     "name": "stdout",
     "output_type": "stream",
     "text": [
      "8004788\n"
     ]
    },
    {
     "name": "stdout",
     "output_type": "stream",
     "text": [
      "8004801\n"
     ]
    },
    {
     "name": "stdout",
     "output_type": "stream",
     "text": [
      "8004809\n"
     ]
    },
    {
     "name": "stdout",
     "output_type": "stream",
     "text": [
      "8004822\n"
     ]
    },
    {
     "name": "stdout",
     "output_type": "stream",
     "text": [
      "8004848\n"
     ]
    },
    {
     "name": "stdout",
     "output_type": "stream",
     "text": [
      "8004868\n"
     ]
    },
    {
     "name": "stdout",
     "output_type": "stream",
     "text": [
      "8004900\n"
     ]
    },
    {
     "name": "stdout",
     "output_type": "stream",
     "text": [
      "8004920\n"
     ]
    },
    {
     "name": "stdout",
     "output_type": "stream",
     "text": [
      "8004924\n"
     ]
    },
    {
     "name": "stdout",
     "output_type": "stream",
     "text": [
      "8004936\n"
     ]
    },
    {
     "name": "stdout",
     "output_type": "stream",
     "text": [
      "8004983\n"
     ]
    },
    {
     "name": "stdout",
     "output_type": "stream",
     "text": [
      "8005008\n"
     ]
    },
    {
     "name": "stdout",
     "output_type": "stream",
     "text": [
      "8005019\n"
     ]
    },
    {
     "name": "stdout",
     "output_type": "stream",
     "text": [
      "8005065\n"
     ]
    },
    {
     "name": "stdout",
     "output_type": "stream",
     "text": [
      "8005122\n"
     ]
    },
    {
     "name": "stdout",
     "output_type": "stream",
     "text": [
      "8005143\n"
     ]
    },
    {
     "name": "stdout",
     "output_type": "stream",
     "text": [
      "8005159\n"
     ]
    },
    {
     "name": "stdout",
     "output_type": "stream",
     "text": [
      "8005199\n"
     ]
    },
    {
     "name": "stdout",
     "output_type": "stream",
     "text": [
      "8005208\n"
     ]
    },
    {
     "name": "stdout",
     "output_type": "stream",
     "text": [
      "8005246\n"
     ]
    },
    {
     "name": "stdout",
     "output_type": "stream",
     "text": [
      "8005275\n"
     ]
    },
    {
     "name": "stdout",
     "output_type": "stream",
     "text": [
      "8005279\n"
     ]
    },
    {
     "name": "stdout",
     "output_type": "stream",
     "text": [
      "8005292\n"
     ]
    },
    {
     "name": "stdout",
     "output_type": "stream",
     "text": [
      "8005340\n"
     ]
    },
    {
     "name": "stdout",
     "output_type": "stream",
     "text": [
      "8005345\n"
     ]
    },
    {
     "name": "stdout",
     "output_type": "stream",
     "text": [
      "8005352\n"
     ]
    },
    {
     "name": "stdout",
     "output_type": "stream",
     "text": [
      "8005366\n"
     ]
    },
    {
     "name": "stdout",
     "output_type": "stream",
     "text": [
      "8005421\n"
     ]
    },
    {
     "name": "stdout",
     "output_type": "stream",
     "text": [
      "8005435\n"
     ]
    },
    {
     "name": "stdout",
     "output_type": "stream",
     "text": [
      "8005440\n"
     ]
    },
    {
     "name": "stdout",
     "output_type": "stream",
     "text": [
      "8005481\n"
     ]
    },
    {
     "name": "stdout",
     "output_type": "stream",
     "text": [
      "8005543\n"
     ]
    },
    {
     "name": "stdout",
     "output_type": "stream",
     "text": [
      "8005628\n"
     ]
    },
    {
     "name": "stdout",
     "output_type": "stream",
     "text": [
      "8005645\n"
     ]
    },
    {
     "name": "stdout",
     "output_type": "stream",
     "text": [
      "8005653\n"
     ]
    },
    {
     "name": "stdout",
     "output_type": "stream",
     "text": [
      "8005655\n"
     ]
    },
    {
     "name": "stdout",
     "output_type": "stream",
     "text": [
      "8005658\n"
     ]
    },
    {
     "name": "stdout",
     "output_type": "stream",
     "text": [
      "8005670\n"
     ]
    },
    {
     "name": "stdout",
     "output_type": "stream",
     "text": [
      "8005672\n"
     ]
    },
    {
     "name": "stdout",
     "output_type": "stream",
     "text": [
      "8005674\n"
     ]
    },
    {
     "name": "stdout",
     "output_type": "stream",
     "text": [
      "8005688\n"
     ]
    },
    {
     "name": "stdout",
     "output_type": "stream",
     "text": [
      "8005708\n"
     ]
    },
    {
     "name": "stdout",
     "output_type": "stream",
     "text": [
      "8005712\n"
     ]
    },
    {
     "name": "stdout",
     "output_type": "stream",
     "text": [
      "8005737\n"
     ]
    },
    {
     "name": "stdout",
     "output_type": "stream",
     "text": [
      "8005747\n"
     ]
    },
    {
     "name": "stdout",
     "output_type": "stream",
     "text": [
      "8005750\n"
     ]
    },
    {
     "name": "stdout",
     "output_type": "stream",
     "text": [
      "8005781\n"
     ]
    },
    {
     "name": "stdout",
     "output_type": "stream",
     "text": [
      "8005797\n"
     ]
    },
    {
     "name": "stdout",
     "output_type": "stream",
     "text": [
      "8005799\n"
     ]
    },
    {
     "name": "stdout",
     "output_type": "stream",
     "text": [
      "8005825\n"
     ]
    },
    {
     "name": "stdout",
     "output_type": "stream",
     "text": [
      "8005828\n"
     ]
    },
    {
     "name": "stdout",
     "output_type": "stream",
     "text": [
      "8005836\n"
     ]
    },
    {
     "name": "stdout",
     "output_type": "stream",
     "text": [
      "8005905\n"
     ]
    },
    {
     "name": "stdout",
     "output_type": "stream",
     "text": [
      "8005911\n"
     ]
    },
    {
     "name": "stdout",
     "output_type": "stream",
     "text": [
      "8005918\n"
     ]
    },
    {
     "name": "stdout",
     "output_type": "stream",
     "text": [
      "8005929\n"
     ]
    },
    {
     "name": "stdout",
     "output_type": "stream",
     "text": [
      "8005935\n"
     ]
    },
    {
     "name": "stdout",
     "output_type": "stream",
     "text": [
      "8005943\n"
     ]
    },
    {
     "name": "stdout",
     "output_type": "stream",
     "text": [
      "8005945\n"
     ]
    },
    {
     "name": "stdout",
     "output_type": "stream",
     "text": [
      "8005947\n"
     ]
    },
    {
     "name": "stdout",
     "output_type": "stream",
     "text": [
      "8005949\n"
     ]
    },
    {
     "name": "stdout",
     "output_type": "stream",
     "text": [
      "8005955\n"
     ]
    },
    {
     "name": "stdout",
     "output_type": "stream",
     "text": [
      "8005966\n"
     ]
    },
    {
     "name": "stdout",
     "output_type": "stream",
     "text": [
      "8005970\n"
     ]
    },
    {
     "name": "stdout",
     "output_type": "stream",
     "text": [
      "8005971\n"
     ]
    },
    {
     "name": "stdout",
     "output_type": "stream",
     "text": [
      "8005995\n"
     ]
    },
    {
     "name": "stdout",
     "output_type": "stream",
     "text": [
      "8006006\n"
     ]
    },
    {
     "name": "stdout",
     "output_type": "stream",
     "text": [
      "8006017\n"
     ]
    },
    {
     "name": "stdout",
     "output_type": "stream",
     "text": [
      "8006052\n"
     ]
    },
    {
     "name": "stdout",
     "output_type": "stream",
     "text": [
      "8006068\n"
     ]
    },
    {
     "name": "stdout",
     "output_type": "stream",
     "text": [
      "8006085\n"
     ]
    },
    {
     "name": "stdout",
     "output_type": "stream",
     "text": [
      "8006086\n"
     ]
    },
    {
     "name": "stdout",
     "output_type": "stream",
     "text": [
      "8006094\n"
     ]
    },
    {
     "name": "stdout",
     "output_type": "stream",
     "text": [
      "8006098\n"
     ]
    },
    {
     "name": "stdout",
     "output_type": "stream",
     "text": [
      "8006100\n"
     ]
    },
    {
     "name": "stdout",
     "output_type": "stream",
     "text": [
      "8006109\n"
     ]
    },
    {
     "name": "stdout",
     "output_type": "stream",
     "text": [
      "8006112\n"
     ]
    },
    {
     "name": "stdout",
     "output_type": "stream",
     "text": [
      "8006135\n"
     ]
    },
    {
     "name": "stdout",
     "output_type": "stream",
     "text": [
      "8006147\n"
     ]
    },
    {
     "name": "stdout",
     "output_type": "stream",
     "text": [
      "8006154\n"
     ]
    },
    {
     "name": "stdout",
     "output_type": "stream",
     "text": [
      "8006167\n"
     ]
    },
    {
     "name": "stdout",
     "output_type": "stream",
     "text": [
      "8006171\n"
     ]
    },
    {
     "name": "stdout",
     "output_type": "stream",
     "text": [
      "8006175\n"
     ]
    },
    {
     "name": "stdout",
     "output_type": "stream",
     "text": [
      "8006181\n"
     ]
    },
    {
     "name": "stdout",
     "output_type": "stream",
     "text": [
      "8006183\n"
     ]
    },
    {
     "name": "stdout",
     "output_type": "stream",
     "text": [
      "8006189\n"
     ]
    },
    {
     "name": "stdout",
     "output_type": "stream",
     "text": [
      "8006190\n"
     ]
    },
    {
     "name": "stdout",
     "output_type": "stream",
     "text": [
      "8006191\n"
     ]
    },
    {
     "name": "stdout",
     "output_type": "stream",
     "text": [
      "8006203\n"
     ]
    },
    {
     "name": "stdout",
     "output_type": "stream",
     "text": [
      "8006212\n"
     ]
    },
    {
     "name": "stdout",
     "output_type": "stream",
     "text": [
      "8006218\n"
     ]
    },
    {
     "name": "stdout",
     "output_type": "stream",
     "text": [
      "8006219\n"
     ]
    },
    {
     "name": "stdout",
     "output_type": "stream",
     "text": [
      "8006227\n"
     ]
    },
    {
     "name": "stdout",
     "output_type": "stream",
     "text": [
      "8006233\n"
     ]
    },
    {
     "name": "stdout",
     "output_type": "stream",
     "text": [
      "8006236\n"
     ]
    },
    {
     "name": "stdout",
     "output_type": "stream",
     "text": [
      "8006258\n"
     ]
    },
    {
     "name": "stdout",
     "output_type": "stream",
     "text": [
      "8006264\n"
     ]
    },
    {
     "name": "stdout",
     "output_type": "stream",
     "text": [
      "8006266\n"
     ]
    },
    {
     "name": "stdout",
     "output_type": "stream",
     "text": [
      "8006271\n"
     ]
    },
    {
     "name": "stdout",
     "output_type": "stream",
     "text": [
      "8006279\n"
     ]
    },
    {
     "name": "stdout",
     "output_type": "stream",
     "text": [
      "8006298\n"
     ]
    },
    {
     "name": "stdout",
     "output_type": "stream",
     "text": [
      "8006300\n"
     ]
    },
    {
     "name": "stdout",
     "output_type": "stream",
     "text": [
      "8006312\n"
     ]
    },
    {
     "name": "stdout",
     "output_type": "stream",
     "text": [
      "8006340\n"
     ]
    },
    {
     "name": "stdout",
     "output_type": "stream",
     "text": [
      "8006359\n"
     ]
    },
    {
     "name": "stdout",
     "output_type": "stream",
     "text": [
      "8006373\n"
     ]
    },
    {
     "name": "stdout",
     "output_type": "stream",
     "text": [
      "8006376\n"
     ]
    },
    {
     "name": "stdout",
     "output_type": "stream",
     "text": [
      "8006378\n"
     ]
    },
    {
     "name": "stdout",
     "output_type": "stream",
     "text": [
      "8006389\n"
     ]
    },
    {
     "name": "stdout",
     "output_type": "stream",
     "text": [
      "8006391\n"
     ]
    },
    {
     "name": "stdout",
     "output_type": "stream",
     "text": [
      "8006402\n"
     ]
    },
    {
     "name": "stdout",
     "output_type": "stream",
     "text": [
      "8006404\n"
     ]
    },
    {
     "name": "stdout",
     "output_type": "stream",
     "text": [
      "8006417\n"
     ]
    },
    {
     "name": "stdout",
     "output_type": "stream",
     "text": [
      "8006426\n"
     ]
    },
    {
     "name": "stdout",
     "output_type": "stream",
     "text": [
      "8006432\n"
     ]
    },
    {
     "name": "stdout",
     "output_type": "stream",
     "text": [
      "8006463\n"
     ]
    },
    {
     "name": "stdout",
     "output_type": "stream",
     "text": [
      "8006473\n"
     ]
    },
    {
     "name": "stdout",
     "output_type": "stream",
     "text": [
      "8006476\n"
     ]
    },
    {
     "name": "stdout",
     "output_type": "stream",
     "text": [
      "8006481\n"
     ]
    },
    {
     "name": "stdout",
     "output_type": "stream",
     "text": [
      "8006485\n"
     ]
    },
    {
     "name": "stdout",
     "output_type": "stream",
     "text": [
      "8006486\n"
     ]
    },
    {
     "name": "stdout",
     "output_type": "stream",
     "text": [
      "8006488\n"
     ]
    },
    {
     "name": "stdout",
     "output_type": "stream",
     "text": [
      "8006501\n"
     ]
    },
    {
     "name": "stdout",
     "output_type": "stream",
     "text": [
      "8006510\n"
     ]
    },
    {
     "name": "stdout",
     "output_type": "stream",
     "text": [
      "8006511\n"
     ]
    },
    {
     "name": "stdout",
     "output_type": "stream",
     "text": [
      "8006514\n"
     ]
    },
    {
     "name": "stdout",
     "output_type": "stream",
     "text": [
      "8006516\n"
     ]
    },
    {
     "name": "stdout",
     "output_type": "stream",
     "text": [
      "8006524\n"
     ]
    },
    {
     "name": "stdout",
     "output_type": "stream",
     "text": [
      "8006527\n"
     ]
    },
    {
     "name": "stdout",
     "output_type": "stream",
     "text": [
      "8006528\n"
     ]
    },
    {
     "name": "stdout",
     "output_type": "stream",
     "text": [
      "8006533\n"
     ]
    },
    {
     "name": "stdout",
     "output_type": "stream",
     "text": [
      "8006535\n"
     ]
    },
    {
     "name": "stdout",
     "output_type": "stream",
     "text": [
      "8006537\n"
     ]
    },
    {
     "name": "stdout",
     "output_type": "stream",
     "text": [
      "8006541\n"
     ]
    },
    {
     "name": "stdout",
     "output_type": "stream",
     "text": [
      "8006548\n"
     ]
    },
    {
     "name": "stdout",
     "output_type": "stream",
     "text": [
      "8006550\n"
     ]
    },
    {
     "name": "stdout",
     "output_type": "stream",
     "text": [
      "8006555\n"
     ]
    },
    {
     "name": "stdout",
     "output_type": "stream",
     "text": [
      "8006572\n"
     ]
    },
    {
     "name": "stdout",
     "output_type": "stream",
     "text": [
      "8006575\n"
     ]
    },
    {
     "name": "stdout",
     "output_type": "stream",
     "text": [
      "8006581\n"
     ]
    },
    {
     "name": "stdout",
     "output_type": "stream",
     "text": [
      "8006586\n"
     ]
    },
    {
     "name": "stdout",
     "output_type": "stream",
     "text": [
      "8006627\n"
     ]
    },
    {
     "name": "stdout",
     "output_type": "stream",
     "text": [
      "8006634\n"
     ]
    },
    {
     "name": "stdout",
     "output_type": "stream",
     "text": [
      "8006635\n"
     ]
    },
    {
     "name": "stdout",
     "output_type": "stream",
     "text": [
      "8006641\n"
     ]
    },
    {
     "name": "stdout",
     "output_type": "stream",
     "text": [
      "8006642\n"
     ]
    },
    {
     "name": "stdout",
     "output_type": "stream",
     "text": [
      "8006659\n"
     ]
    },
    {
     "name": "stdout",
     "output_type": "stream",
     "text": [
      "8006662\n"
     ]
    },
    {
     "name": "stdout",
     "output_type": "stream",
     "text": [
      "8006663\n"
     ]
    },
    {
     "name": "stdout",
     "output_type": "stream",
     "text": [
      "8006667\n"
     ]
    },
    {
     "name": "stdout",
     "output_type": "stream",
     "text": [
      "8006670\n"
     ]
    },
    {
     "name": "stdout",
     "output_type": "stream",
     "text": [
      "8006671\n"
     ]
    },
    {
     "name": "stdout",
     "output_type": "stream",
     "text": [
      "8006673\n"
     ]
    },
    {
     "name": "stdout",
     "output_type": "stream",
     "text": [
      "8006676\n"
     ]
    },
    {
     "name": "stdout",
     "output_type": "stream",
     "text": [
      "8006680\n"
     ]
    },
    {
     "name": "stdout",
     "output_type": "stream",
     "text": [
      "8006687\n"
     ]
    },
    {
     "name": "stdout",
     "output_type": "stream",
     "text": [
      "8006688\n"
     ]
    },
    {
     "name": "stdout",
     "output_type": "stream",
     "text": [
      "8006704\n"
     ]
    },
    {
     "name": "stdout",
     "output_type": "stream",
     "text": [
      "8006707\n"
     ]
    },
    {
     "name": "stdout",
     "output_type": "stream",
     "text": [
      "8006709\n"
     ]
    },
    {
     "name": "stdout",
     "output_type": "stream",
     "text": [
      "8006712\n"
     ]
    },
    {
     "name": "stdout",
     "output_type": "stream",
     "text": [
      "8006714\n"
     ]
    },
    {
     "name": "stdout",
     "output_type": "stream",
     "text": [
      "8006717\n"
     ]
    },
    {
     "name": "stdout",
     "output_type": "stream",
     "text": [
      "8006719\n"
     ]
    },
    {
     "name": "stdout",
     "output_type": "stream",
     "text": [
      "8006745\n"
     ]
    },
    {
     "name": "stdout",
     "output_type": "stream",
     "text": [
      "8007357\n"
     ]
    },
    {
     "name": "stdout",
     "output_type": "stream",
     "text": [
      "8007445\n"
     ]
    },
    {
     "name": "stdout",
     "output_type": "stream",
     "text": [
      "8007482\n"
     ]
    },
    {
     "name": "stdout",
     "output_type": "stream",
     "text": [
      "8007856\n"
     ]
    },
    {
     "name": "stdout",
     "output_type": "stream",
     "text": [
      "8007857\n"
     ]
    },
    {
     "name": "stdout",
     "output_type": "stream",
     "text": [
      "8007860\n"
     ]
    },
    {
     "name": "stdout",
     "output_type": "stream",
     "text": [
      "8007868\n"
     ]
    },
    {
     "name": "stdout",
     "output_type": "stream",
     "text": [
      "8010074\n"
     ]
    },
    {
     "name": "stdout",
     "output_type": "stream",
     "text": [
      "8010131\n"
     ]
    },
    {
     "name": "stdout",
     "output_type": "stream",
     "text": [
      "8010274\n"
     ]
    },
    {
     "name": "stdout",
     "output_type": "stream",
     "text": [
      "8010345\n"
     ]
    },
    {
     "name": "stdout",
     "output_type": "stream",
     "text": [
      "8011503\n"
     ]
    },
    {
     "name": "stdout",
     "output_type": "stream",
     "text": [
      "8011559\n"
     ]
    },
    {
     "name": "stdout",
     "output_type": "stream",
     "text": [
      "8011623\n"
     ]
    },
    {
     "name": "stdout",
     "output_type": "stream",
     "text": [
      "8011958\n"
     ]
    },
    {
     "name": "stdout",
     "output_type": "stream",
     "text": [
      "8012011\n"
     ]
    },
    {
     "name": "stdout",
     "output_type": "stream",
     "text": [
      "8012465\n"
     ]
    },
    {
     "name": "stdout",
     "output_type": "stream",
     "text": [
      "8012621\n"
     ]
    },
    {
     "name": "stdout",
     "output_type": "stream",
     "text": [
      "8012673\n"
     ]
    },
    {
     "name": "stdout",
     "output_type": "stream",
     "text": [
      "8012777\n"
     ]
    },
    {
     "name": "stdout",
     "output_type": "stream",
     "text": [
      "8012787\n"
     ]
    },
    {
     "name": "stdout",
     "output_type": "stream",
     "text": [
      "8012940\n"
     ]
    },
    {
     "name": "stdout",
     "output_type": "stream",
     "text": [
      "8012942\n"
     ]
    },
    {
     "name": "stdout",
     "output_type": "stream",
     "text": [
      "8012961\n"
     ]
    },
    {
     "name": "stdout",
     "output_type": "stream",
     "text": [
      "8013008\n"
     ]
    },
    {
     "name": "stdout",
     "output_type": "stream",
     "text": [
      "8013083\n"
     ]
    },
    {
     "name": "stdout",
     "output_type": "stream",
     "text": [
      "8013138\n"
     ]
    },
    {
     "name": "stdout",
     "output_type": "stream",
     "text": [
      "8013160\n"
     ]
    },
    {
     "name": "stdout",
     "output_type": "stream",
     "text": [
      "8013177\n"
     ]
    },
    {
     "name": "stdout",
     "output_type": "stream",
     "text": [
      "8013186\n"
     ]
    },
    {
     "name": "stdout",
     "output_type": "stream",
     "text": [
      "8013188\n"
     ]
    },
    {
     "name": "stdout",
     "output_type": "stream",
     "text": [
      "8013205\n"
     ]
    },
    {
     "name": "stdout",
     "output_type": "stream",
     "text": [
      "8013221\n"
     ]
    },
    {
     "name": "stdout",
     "output_type": "stream",
     "text": [
      "8013222\n"
     ]
    },
    {
     "name": "stdout",
     "output_type": "stream",
     "text": [
      "8013226\n"
     ]
    },
    {
     "name": "stdout",
     "output_type": "stream",
     "text": [
      "8013244\n"
     ]
    },
    {
     "name": "stdout",
     "output_type": "stream",
     "text": [
      "8013258\n"
     ]
    },
    {
     "name": "stdout",
     "output_type": "stream",
     "text": [
      "8013261\n"
     ]
    },
    {
     "name": "stdout",
     "output_type": "stream",
     "text": [
      "8013280\n"
     ]
    },
    {
     "name": "stdout",
     "output_type": "stream",
     "text": [
      "8013313\n"
     ]
    },
    {
     "name": "stdout",
     "output_type": "stream",
     "text": [
      "8013315\n"
     ]
    },
    {
     "name": "stdout",
     "output_type": "stream",
     "text": [
      "8013333\n"
     ]
    },
    {
     "name": "stdout",
     "output_type": "stream",
     "text": [
      "8013366\n"
     ]
    },
    {
     "name": "stdout",
     "output_type": "stream",
     "text": [
      "8013370\n"
     ]
    },
    {
     "name": "stdout",
     "output_type": "stream",
     "text": [
      "8013373\n"
     ]
    },
    {
     "name": "stdout",
     "output_type": "stream",
     "text": [
      "8013389\n"
     ]
    },
    {
     "name": "stdout",
     "output_type": "stream",
     "text": [
      "8013393\n"
     ]
    },
    {
     "name": "stdout",
     "output_type": "stream",
     "text": [
      "8013398\n"
     ]
    },
    {
     "name": "stdout",
     "output_type": "stream",
     "text": [
      "8013414\n"
     ]
    },
    {
     "name": "stdout",
     "output_type": "stream",
     "text": [
      "8013418\n"
     ]
    },
    {
     "name": "stdout",
     "output_type": "stream",
     "text": [
      "8013445\n"
     ]
    },
    {
     "name": "stdout",
     "output_type": "stream",
     "text": [
      "8013471\n"
     ]
    },
    {
     "name": "stdout",
     "output_type": "stream",
     "text": [
      "8013474\n"
     ]
    },
    {
     "name": "stdout",
     "output_type": "stream",
     "text": [
      "8013476\n"
     ]
    },
    {
     "name": "stdout",
     "output_type": "stream",
     "text": [
      "8013490\n"
     ]
    },
    {
     "name": "stdout",
     "output_type": "stream",
     "text": [
      "8017042\n"
     ]
    },
    {
     "name": "stdout",
     "output_type": "stream",
     "text": [
      "8070005\n"
     ]
    },
    {
     "name": "stdout",
     "output_type": "stream",
     "text": [
      "8070092\n"
     ]
    },
    {
     "name": "stdout",
     "output_type": "stream",
     "text": [
      "8070170\n"
     ]
    },
    {
     "name": "stdout",
     "output_type": "stream",
     "text": [
      "8070483\n"
     ]
    },
    {
     "name": "stdout",
     "output_type": "stream",
     "text": [
      "8073410\n"
     ]
    },
    {
     "name": "stdout",
     "output_type": "stream",
     "text": [
      "8077434\n"
     ]
    },
    {
     "name": "stdout",
     "output_type": "stream",
     "text": [
      "8079083\n"
     ]
    },
    {
     "name": "stdout",
     "output_type": "stream",
     "text": [
      "8079097\n"
     ]
    },
    {
     "name": "stdout",
     "output_type": "stream",
     "text": [
      "8079146\n"
     ]
    },
    {
     "name": "stdout",
     "output_type": "stream",
     "text": [
      "8079147\n"
     ]
    },
    {
     "name": "stdout",
     "output_type": "stream",
     "text": [
      "8079151\n"
     ]
    },
    {
     "name": "stdout",
     "output_type": "stream",
     "text": [
      "8079604\n"
     ]
    },
    {
     "name": "stdout",
     "output_type": "stream",
     "text": [
      "8079616\n"
     ]
    },
    {
     "name": "stdout",
     "output_type": "stream",
     "text": [
      "8079629\n"
     ]
    },
    {
     "name": "stdout",
     "output_type": "stream",
     "text": [
      "8080280\n"
     ]
    },
    {
     "name": "stdout",
     "output_type": "stream",
     "text": [
      "8080620\n"
     ]
    },
    {
     "name": "stdout",
     "output_type": "stream",
     "text": [
      "8080660\n"
     ]
    },
    {
     "name": "stdout",
     "output_type": "stream",
     "text": [
      "8081220\n"
     ]
    },
    {
     "name": "stdout",
     "output_type": "stream",
     "text": [
      "8081270\n"
     ]
    },
    {
     "name": "stdout",
     "output_type": "stream",
     "text": [
      "8081586\n"
     ]
    },
    {
     "name": "stdout",
     "output_type": "stream",
     "text": [
      "8081688\n"
     ]
    },
    {
     "name": "stdout",
     "output_type": "stream",
     "text": [
      "8083368\n"
     ]
    },
    {
     "name": "stdout",
     "output_type": "stream",
     "text": [
      "8087062\n"
     ]
    },
    {
     "name": "stdout",
     "output_type": "stream",
     "text": [
      "8087064\n"
     ]
    },
    {
     "name": "stdout",
     "output_type": "stream",
     "text": [
      "8087067\n"
     ]
    },
    {
     "name": "stdout",
     "output_type": "stream",
     "text": [
      "8087080\n"
     ]
    },
    {
     "name": "stdout",
     "output_type": "stream",
     "text": [
      "8089119\n"
     ]
    },
    {
     "name": "stdout",
     "output_type": "stream",
     "text": [
      "8089181\n"
     ]
    },
    {
     "name": "stdout",
     "output_type": "stream",
     "text": [
      "8089184\n"
     ]
    },
    {
     "name": "stdout",
     "output_type": "stream",
     "text": [
      "8089186\n"
     ]
    },
    {
     "name": "stdout",
     "output_type": "stream",
     "text": [
      "8089187\n"
     ]
    },
    {
     "name": "stdout",
     "output_type": "stream",
     "text": [
      "8089201\n"
     ]
    },
    {
     "name": "stdout",
     "output_type": "stream",
     "text": [
      "8089205\n"
     ]
    },
    {
     "name": "stdout",
     "output_type": "stream",
     "text": [
      "8089207\n"
     ]
    },
    {
     "name": "stdout",
     "output_type": "stream",
     "text": [
      "8098096\n"
     ]
    },
    {
     "name": "stdout",
     "output_type": "stream",
     "text": [
      "8098105\n"
     ]
    },
    {
     "name": "stdout",
     "output_type": "stream",
     "text": [
      "8098193\n"
     ]
    },
    {
     "name": "stdout",
     "output_type": "stream",
     "text": [
      "8098205\n"
     ]
    },
    {
     "name": "stdout",
     "output_type": "stream",
     "text": [
      "8098263\n"
     ]
    },
    {
     "name": "stdout",
     "output_type": "stream",
     "text": [
      "8098349\n"
     ]
    },
    {
     "name": "stdout",
     "output_type": "stream",
     "text": [
      "8098493\n"
     ]
    },
    {
     "name": "stdout",
     "output_type": "stream",
     "text": [
      "8098553\n"
     ]
    }
   ],
   "source": [
    "stationd_id = stations['db_station_id']\n",
    "for station in stationd_id:\n",
    "    print(station)\n",
    "    fetch_station_id = station\n",
    "    fetch_station_time = None #\"2021-11-25T8:00:00.000Z\"\n",
    "    fetch_depature_table(fetch_station_id,fetch_station_time)"
   ]
  },
  {
   "cell_type": "code",
   "execution_count": 7,
   "id": "c2e6437c",
   "metadata": {
    "execution": {
     "iopub.execute_input": "2021-11-29T11:20:05.145391Z",
     "iopub.status.busy": "2021-11-29T11:20:05.145067Z",
     "iopub.status.idle": "2021-11-29T11:20:05.164541Z",
     "shell.execute_reply": "2021-11-29T11:20:05.164219Z"
    },
    "papermill": {
     "duration": 0.225337,
     "end_time": "2021-11-29T11:20:05.164630",
     "exception": false,
     "start_time": "2021-11-29T11:20:04.939293",
     "status": "completed"
    },
    "scrolled": true,
    "tags": []
   },
   "outputs": [
    {
     "data": {
      "text/html": [
       "<div>\n",
       "<style scoped>\n",
       "    .dataframe tbody tr th:only-of-type {\n",
       "        vertical-align: middle;\n",
       "    }\n",
       "\n",
       "    .dataframe tbody tr th {\n",
       "        vertical-align: top;\n",
       "    }\n",
       "\n",
       "    .dataframe thead th {\n",
       "        text-align: right;\n",
       "    }\n",
       "</style>\n",
       "<table border=\"1\" class=\"dataframe\">\n",
       "  <thead>\n",
       "    <tr style=\"text-align: right;\">\n",
       "      <th></th>\n",
       "      <th>type</th>\n",
       "      <th>name</th>\n",
       "      <th>line</th>\n",
       "      <th>number</th>\n",
       "      <th>start_station</th>\n",
       "      <th>stops</th>\n",
       "      <th>max_capacity</th>\n",
       "    </tr>\n",
       "  </thead>\n",
       "  <tbody>\n",
       "    <tr>\n",
       "      <th>0</th>\n",
       "      <td>RE</td>\n",
       "      <td>RE 30</td>\n",
       "      <td>30</td>\n",
       "      <td>3084</td>\n",
       "      <td>8000028</td>\n",
       "      <td>8000028,8004759,8004284,8000284,</td>\n",
       "      <td>602</td>\n",
       "    </tr>\n",
       "    <tr>\n",
       "      <th>1</th>\n",
       "      <td>RE</td>\n",
       "      <td>RE 38</td>\n",
       "      <td>38</td>\n",
       "      <td>59306</td>\n",
       "      <td>8000028</td>\n",
       "      <td>8000028,8000974,8004936,8002605,8005895,800026...</td>\n",
       "      <td>602</td>\n",
       "    </tr>\n",
       "    <tr>\n",
       "      <th>2</th>\n",
       "      <td>RE</td>\n",
       "      <td>RE 32</td>\n",
       "      <td>32</td>\n",
       "      <td>3460</td>\n",
       "      <td>8000028</td>\n",
       "      <td>8000028,8004759,8004284,8000284,</td>\n",
       "      <td>602</td>\n",
       "    </tr>\n",
       "    <tr>\n",
       "      <th>3</th>\n",
       "      <td>RE</td>\n",
       "      <td>RE 30</td>\n",
       "      <td>30</td>\n",
       "      <td>3410</td>\n",
       "      <td>8000028</td>\n",
       "      <td>8000028,8001348,8000328,8004759,8002794,8000284,</td>\n",
       "      <td>602</td>\n",
       "    </tr>\n",
       "    <tr>\n",
       "      <th>4</th>\n",
       "      <td>RE</td>\n",
       "      <td>RE 30</td>\n",
       "      <td>30</td>\n",
       "      <td>3087</td>\n",
       "      <td>8000028</td>\n",
       "      <td>8000028,8004126,8002924,</td>\n",
       "      <td>602</td>\n",
       "    </tr>\n",
       "  </tbody>\n",
       "</table>\n",
       "</div>"
      ],
      "text/plain": [
       "  type   name line number start_station  \\\n",
       "0   RE  RE 30   30   3084       8000028   \n",
       "1   RE  RE 38   38  59306       8000028   \n",
       "2   RE  RE 32   32   3460       8000028   \n",
       "3   RE  RE 30   30   3410       8000028   \n",
       "4   RE  RE 30   30   3087       8000028   \n",
       "\n",
       "                                               stops  max_capacity  \n",
       "0                   8000028,8004759,8004284,8000284,           602  \n",
       "1  8000028,8000974,8004936,8002605,8005895,800026...           602  \n",
       "2                   8000028,8004759,8004284,8000284,           602  \n",
       "3   8000028,8001348,8000328,8004759,8002794,8000284,           602  \n",
       "4                           8000028,8004126,8002924,           602  "
      ]
     },
     "execution_count": 7,
     "metadata": {},
     "output_type": "execute_result"
    }
   ],
   "source": [
    "# SAVE RESULTS AS CSV\n",
    "## UGLY !!\n",
    "# TRANSFROM FETCH RESULT INTO PD COMPATIBLE DATA\n",
    "_type = []\n",
    "_name = []\n",
    "_line = []\n",
    "_number = []\n",
    "_start_station = []\n",
    "_stops = []\n",
    "_max_capacity = []\n",
    "\n",
    "for res in successful_fetch:\n",
    "    et = None\n",
    "    try:\n",
    "        et = res[0]\n",
    "    except:\n",
    "        et = res\n",
    "    \n",
    "    if et is None or len(et) <= 0:\n",
    "        continue\n",
    "    #print(et)\n",
    "    _type.append(et['type'])\n",
    "    _name.append(et['name'])\n",
    "    _line.append(et['line'])\n",
    "    _number.append(et['number'])\n",
    "    _start_station.append(et['start_station'])\n",
    "    _stops.append(et['stops'])\n",
    "    \n",
    "    \n",
    "    \n",
    "    \n",
    "    # ADD A ESTIMATED CAPACITY\n",
    "    if et['type'] == \"ICE\":\n",
    "        _max_capacity.append(720)\n",
    "    elif et['type'] == \"IC\" or et['type'] == \"EC\":\n",
    "        _max_capacity.append(468)\n",
    "    elif et['type'] == \"RE\":\n",
    "        _max_capacity.append(602)\n",
    "    elif et['type'] == \"RB\":\n",
    "        _max_capacity.append(426)\n",
    "\n",
    "\n",
    "fetched_depatures = pd.DataFrame(data={'type':_type,'name':_name,'line':_line,'number':_number,'start_station':_start_station,'stops':_stops, 'max_capacity':_max_capacity})\n",
    "fetched_depatures.head(5)"
   ]
  },
  {
   "cell_type": "code",
   "execution_count": 8,
   "id": "22f6b366",
   "metadata": {
    "execution": {
     "iopub.execute_input": "2021-11-29T11:20:05.560748Z",
     "iopub.status.busy": "2021-11-29T11:20:05.560384Z",
     "iopub.status.idle": "2021-11-29T11:20:05.583419Z",
     "shell.execute_reply": "2021-11-29T11:20:05.583110Z"
    },
    "papermill": {
     "duration": 0.223039,
     "end_time": "2021-11-29T11:20:05.583511",
     "exception": false,
     "start_time": "2021-11-29T11:20:05.360472",
     "status": "completed"
    },
    "tags": []
   },
   "outputs": [
    {
     "name": "stdout",
     "output_type": "stream",
     "text": [
      "1638184805\n"
     ]
    }
   ],
   "source": [
    "import calendar;\n",
    "import time;\n",
    "ts = calendar.timegm(time.gmtime())\n",
    "print(ts)\n",
    "\n",
    "fetched_depatures.to_csv(\"./generated/departure_tables_raw/1_departures_table_\"+str(ts)+\".csv\",sep=';',encoding=\"utf-8\",index=False)"
   ]
  },
  {
   "cell_type": "code",
   "execution_count": null,
   "id": "5c6fecc6",
   "metadata": {
    "papermill": {
     "duration": 0.201456,
     "end_time": "2021-11-29T11:20:05.982261",
     "exception": false,
     "start_time": "2021-11-29T11:20:05.780805",
     "status": "completed"
    },
    "tags": []
   },
   "outputs": [],
   "source": []
  }
 ],
 "metadata": {
  "kernelspec": {
   "display_name": "Python 3 (ipykernel)",
   "language": "python",
   "name": "python3"
  },
  "language_info": {
   "codemirror_mode": {
    "name": "ipython",
    "version": 3
   },
   "file_extension": ".py",
   "mimetype": "text/x-python",
   "name": "python",
   "nbconvert_exporter": "python",
   "pygments_lexer": "ipython3",
   "version": "3.9.7"
  },
  "papermill": {
   "default_parameters": {},
   "duration": 394.531089,
   "end_time": "2021-11-29T11:20:06.287215",
   "environment_variables": {},
   "exception": null,
   "input_path": "1_download_train_schedule.ipynb",
   "output_path": "logs/1_download_train_schedule.ipynb",
   "parameters": {},
   "start_time": "2021-11-29T11:13:31.756126",
   "version": "2.3.3"
  }
 },
 "nbformat": 4,
 "nbformat_minor": 5
}